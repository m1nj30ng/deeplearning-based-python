{
 "cells": [
  {
   "cell_type": "code",
   "execution_count": null,
   "metadata": {},
   "outputs": [],
   "source": [
    "''''\n",
    "import zipfile\n",
    "zip_file = zipfile.ZipFile(r'C:\\Users\\User\\HTP_Test\\zipped_data\\Training\\01.원천데이터\\TS_나무.zip') # 압축을 해제할 '/파일경로/파일명.zip'\n",
    "zip_file.extractall(r'C:\\Users\\User\\HTP_Test\\unzipped_data\\train\\image') # 압축을 해제할 '/위치경로/'\n",
    "\n",
    "zip_file = zipfile.ZipFile(r'C:\\Users\\User\\HTP_Test\\zipped_data\\Training\\01.원천데이터\\TS_남자사람.zip')\n",
    "zip_file.extractall(r'C:\\Users\\User\\HTP_Test\\unzipped_data\\train\\image')\n",
    "\n",
    "zip_file = zipfile.ZipFile(r'C:\\Users\\User\\HTP_Test\\zipped_data\\Training\\01.원천데이터\\TS_여자사람.zip')\n",
    "zip_file.extractall(r'C:\\Users\\User\\HTP_Test\\unzipped_data\\train\\image')\n",
    "\n",
    "zip_file = zipfile.ZipFile(r'C:\\Users\\User\\HTP_Test\\zipped_data\\Training\\01.원천데이터\\TS_집.zip')\n",
    "zip_file.extractall(r'C:\\Users\\User\\HTP_Test\\unzipped_data\\train\\image')\n",
    "'''"
   ]
  },
  {
   "cell_type": "code",
   "execution_count": 11,
   "metadata": {},
   "outputs": [
    {
     "data": {
      "text/plain": [
       "44800"
      ]
     },
     "execution_count": 11,
     "metadata": {},
     "output_type": "execute_result"
    }
   ],
   "source": [
    "import os\n",
    "len(os.listdir(r'C:\\Users\\User\\HTP_Test\\unzipped_data\\train\\image'))"
   ]
  },
  {
   "cell_type": "code",
   "execution_count": null,
   "metadata": {},
   "outputs": [
    {
     "ename": "SyntaxError",
     "evalue": "incomplete input (485095018.py, line 1)",
     "output_type": "error",
     "traceback": [
      "\u001b[1;36m  Cell \u001b[1;32mIn[12], line 1\u001b[1;36m\u001b[0m\n\u001b[1;33m    '''\u001b[0m\n\u001b[1;37m    ^\u001b[0m\n\u001b[1;31mSyntaxError\u001b[0m\u001b[1;31m:\u001b[0m incomplete input\n"
     ]
    }
   ],
   "source": [
    "'''\n",
    "zip_file = zipfile.ZipFile(r'C:\\Users\\User\\HTP_Test\\zipped_data\\Training\\02.라벨링데이터\\TL_나무.zip')\n",
    "zip_file.extractall(r'C:\\Users\\User\\HTP_Test\\unzipped_data\\train\\label')\n",
    "\n",
    "zip_file = zipfile.ZipFile(r'C:\\Users\\User\\HTP_Test\\zipped_data\\Training\\02.라벨링데이터\\TL_남자사람.zip')\n",
    "zip_file.extractall(r'C:\\Users\\User\\HTP_Test\\unzipped_data\\train\\label')\n",
    "\n",
    "zip_file = zipfile.ZipFile(r'C:\\Users\\User\\HTP_Test\\zipped_data\\Training\\02.라벨링데이터\\TL_여자사람.zip')\n",
    "zip_file.extractall(r'C:\\Users\\User\\HTP_Test\\unzipped_data\\train\\label')\n",
    "\n",
    "zip_file = zipfile.ZipFile(r'C:\\Users\\User\\HTP_Test\\zipped_data\\Training\\02.라벨링데이터\\TL_집.zip')\n",
    "zip_file.extractall(r'C:\\Users\\User\\HTP_Test\\unzipped_data\\train\\label')\n",
    "'''"
   ]
  },
  {
   "cell_type": "code",
   "execution_count": 13,
   "metadata": {},
   "outputs": [
    {
     "data": {
      "text/plain": [
       "44800"
      ]
     },
     "execution_count": 13,
     "metadata": {},
     "output_type": "execute_result"
    }
   ],
   "source": [
    "len(os.listdir(r'C:\\Users\\User\\HTP_Test\\unzipped_data\\train\\label'))"
   ]
  },
  {
   "cell_type": "code",
   "execution_count": null,
   "metadata": {},
   "outputs": [],
   "source": [
    "'''\n",
    "zip_file = zipfile.ZipFile(r'C:\\Users\\User\\HTP_Test\\zipped_data\\Validation\\01.원천데이터\\VS_나무.zip') # 압축을 해제할 '/파일경로/파일명.zip'\n",
    "zip_file.extractall(r'C:\\Users\\User\\HTP_Test\\unzipped_data\\validation\\image') # 압축을 해제할 '/위치경로/'\n",
    "\n",
    "zip_file = zipfile.ZipFile(r'C:\\Users\\User\\HTP_Test\\zipped_data\\Validation\\01.원천데이터\\VS_남자사람.zip')\n",
    "zip_file.extractall(r'C:\\Users\\User\\HTP_Test\\unzipped_data\\validation\\image')\n",
    "\n",
    "zip_file = zipfile.ZipFile(r'C:\\Users\\User\\HTP_Test\\zipped_data\\Validation\\01.원천데이터\\VS_여자사람.zip')\n",
    "zip_file.extractall(r'C:\\Users\\User\\HTP_Test\\unzipped_data\\validation\\image')\n",
    "\n",
    "zip_file = zipfile.ZipFile(r'C:\\Users\\User\\HTP_Test\\zipped_data\\Validation\\01.원천데이터\\VS_집.zip')\n",
    "zip_file.extractall(r'C:\\Users\\User\\HTP_Test\\unzipped_data\\validation\\image')\n",
    "'''"
   ]
  },
  {
   "cell_type": "code",
   "execution_count": 15,
   "metadata": {},
   "outputs": [
    {
     "data": {
      "text/plain": [
       "5600"
      ]
     },
     "execution_count": 15,
     "metadata": {},
     "output_type": "execute_result"
    }
   ],
   "source": [
    "len(os.listdir(r'C:\\Users\\User\\HTP_Test\\unzipped_data\\validation\\image'))"
   ]
  },
  {
   "cell_type": "code",
   "execution_count": null,
   "metadata": {},
   "outputs": [],
   "source": [
    "'''\n",
    "zip_file = zipfile.ZipFile(r'C:\\Users\\User\\HTP_Test\\zipped_data\\Validation\\02.라벨링데이터\\VL_나무.zip')\n",
    "zip_file.extractall(r'C:\\Users\\User\\HTP_Test\\unzipped_data\\validation\\label')\n",
    "\n",
    "zip_file = zipfile.ZipFile(r'C:\\Users\\User\\HTP_Test\\zipped_data\\Validation\\02.라벨링데이터\\VL_남자사람.zip')\n",
    "zip_file.extractall(r'C:\\Users\\User\\HTP_Test\\unzipped_data\\validation\\label')\n",
    "\n",
    "zip_file = zipfile.ZipFile(r'C:\\Users\\User\\HTP_Test\\zipped_data\\Validation\\02.라벨링데이터\\VL_여자사람.zip')\n",
    "zip_file.extractall(r'C:\\Users\\User\\HTP_Test\\unzipped_data\\validation\\label')\n",
    "\n",
    "zip_file = zipfile.ZipFile(r'C:\\Users\\User\\HTP_Test\\zipped_data\\Validation\\02.라벨링데이터\\VL_집.zip')\n",
    "zip_file.extractall(r'C:\\Users\\User\\HTP_Test\\unzipped_data\\validation\\label')\n",
    "'''"
   ]
  },
  {
   "cell_type": "code",
   "execution_count": 19,
   "metadata": {},
   "outputs": [
    {
     "data": {
      "text/plain": [
       "5600"
      ]
     },
     "execution_count": 19,
     "metadata": {},
     "output_type": "execute_result"
    }
   ],
   "source": [
    "len(os.listdir(r'C:\\Users\\User\\HTP_Test\\unzipped_data\\validation\\label'))"
   ]
  }
 ],
 "metadata": {
  "kernelspec": {
   "display_name": "venv",
   "language": "python",
   "name": "python3"
  },
  "language_info": {
   "codemirror_mode": {
    "name": "ipython",
    "version": 3
   },
   "file_extension": ".py",
   "mimetype": "text/x-python",
   "name": "python",
   "nbconvert_exporter": "python",
   "pygments_lexer": "ipython3",
   "version": "3.11.9"
  }
 },
 "nbformat": 4,
 "nbformat_minor": 2
}
