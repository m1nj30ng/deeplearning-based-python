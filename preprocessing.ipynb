{
 "cells": [
  {
   "cell_type": "code",
   "execution_count": 3,
   "metadata": {},
   "outputs": [],
   "source": [
    "import json\n",
    "import os\n",
    "from pathlib import Path\n",
    "from PIL import Image\n",
    "\n",
    "#클래스 이름을 ID로 매핑\n",
    "class_map = {\n",
    "    \"집전체\":0,\n",
    "    \"지붕\":1,\n",
    "    \"집벽\":2,\n",
    "    \"문\":3, #유무\n",
    "    \"창문\":4, #유무\n",
    "    \"굴뚝\":5, #유무\n",
    "    \"연기\":6, #유무\n",
    "    \"울타리\":7, #유무 \n",
    "    #\"길\":8,\n",
    "    #\"연못\":9,\n",
    "    \"산\":8, #유무\n",
    "    \"나무\":9, #유무\n",
    "    \"꽃\":10, #유무\n",
    "    \"잔디\":11, #유무\n",
    "    \"태양\":12, #유무\n",
    "\n",
    "    \"나무전체\":13,\n",
    "    \"기둥\":14, #크기\n",
    "    \"수관\":15, \n",
    "    \"가지\":16, #크기, 유무\n",
    "    \"뿌리\":17, #유무, 크기\n",
    "    \"나뭇잎\":18, #크기\n",
    "    #\"꽃\":21,\n",
    "    \"열매\":19, #유무\n",
    "    #\"그네\":23,\n",
    "    #\"새\":24,\n",
    "    #\"다람쥐\":25,\n",
    "    #\"구름\":26,\n",
    "    #\"달\":27,\n",
    "    #\"별\":28,\n",
    "\n",
    "    \"사람전체\":20,\n",
    "    \"머리\":21, #크기\n",
    "    \"얼굴\":22, \n",
    "    \"눈\":23,\n",
    "    \"코\":24,\n",
    "    \"입\":25,\n",
    "    \"귀\":26,\n",
    "    \"머리카락\":27,\n",
    "    \"목\":28,\n",
    "    \"상체\":29,\n",
    "    \"팔\":30,\n",
    "    \"손\":31,\n",
    "    \"다리\":32,\n",
    "    \"발\":33,\n",
    "    \"단추\":34,\n",
    "    \"주머니\":35,\n",
    "    #\"운동화\":45,\n",
    "    #\"구두\":46\n",
    "}\n",
    "\n",
    "#YOLO 형식으로 변환\n",
    "def convert_to_yolo_format(json_data,img_path):\n",
    "    path=json_data[\"meta\"][\"label_path\"]\n",
    "    jpg_path = Path(path).with_suffix(\".jpg\")\n",
    "    img_path = img_path+\"/\"+str(jpg_path)\n",
    "    im = Image.open(img_path)\n",
    "    img_width, img_height = im.size\n",
    "\n",
    "    #YOLO 형식으로 바운딩 박스와 클래스를 저장할 리스트\n",
    "    yolo_annotations = []\n",
    "\n",
    "    #바운딩 박스 변환\n",
    "    for bbox in json_data[\"annotations\"][\"bbox\"]:\n",
    "        label = bbox[\"label\"]\n",
    "        class_id = class_map.get(label, None)\n",
    "        if class_id is None:\n",
    "            continue  #클래스가 정의되지 않으면 건너뛰기\n",
    "\n",
    "        #x, y, w, h -> YOLO 포맷으로 변환\n",
    "        x_center = (bbox[\"x\"] + bbox[\"w\"] / 2) / img_width\n",
    "        y_center = (bbox[\"y\"] + bbox[\"h\"] / 2) / img_height\n",
    "        width = bbox[\"w\"] / img_width\n",
    "        height = bbox[\"h\"] / img_height\n",
    "\n",
    "        yolo_annotations.append(f\"{class_id} {x_center} {y_center} {width} {height}\")\n",
    "\n",
    "    return yolo_annotations\n",
    "\n",
    "#YOLO 레이블을 파일로 저장\n",
    "def save_yolo_labels(json_data, yolo_annotations, save_dir):\n",
    "    image_name = Path(json_data[\"meta\"][\"label_path\"]).stem\n",
    "    label_file = save_dir / f\"{image_name}.txt\"\n",
    "\n",
    "    with open(label_file, \"w\") as f:\n",
    "        for annotation in yolo_annotations:\n",
    "            f.write(annotation + \"\\n\")\n",
    "\n",
    "#JSON 파일 YOLO 형식으로 변환\n",
    "def convert_json_to_yolo(json_file, save_dir,img_path):\n",
    "    with open(json_file, \"r\", encoding=\"utf-8\") as f:\n",
    "        json_data = json.load(f)\n",
    "\n",
    "    yolo_annotations = convert_to_yolo_format(json_data, img_path)\n",
    "    save_yolo_labels(json_data, yolo_annotations, save_dir)"
   ]
  },
  {
   "cell_type": "code",
   "execution_count": null,
   "metadata": {},
   "outputs": [
    {
     "name": "stderr",
     "output_type": "stream",
     "text": [
      "100%|██████████| 5600/5600 [00:11<00:00, 503.31it/s]\n"
     ]
    },
    {
     "name": "stdout",
     "output_type": "stream",
     "text": [
      "5600\n"
     ]
    }
   ],
   "source": [
    "#JSON 파일을 YOLO 학습을 위해 변환_validation\n",
    "from tqdm import tqdm\n",
    "\n",
    "#저장 디렉토리 설정\n",
    "save_dir = Path(r\"C:\\Users\\User\\HTP_Test\\YOLO\\valid\\labels\")\n",
    "save_dir.mkdir(parents=True, exist_ok=True)\n",
    "\n",
    "folder_path = r\"C:\\Users\\User\\HTP_Test\\unzipped_data\\validation\\label\"\n",
    "img_path=r\"C:\\Users\\User\\HTP_Test\\unzipped_data\\validation\\image\"\n",
    "\n",
    "#변환 수행\n",
    "'''\n",
    "for file in tqdm(os.listdir(folder_path)):\n",
    "    file_path = os.path.join(folder_path, file)\n",
    "    convert_json_to_yolo(file_path, save_dir, img_path)\n",
    "'''\n",
    "print(len(os.listdir(r\"C:\\Users\\User\\HTP_Test\\YOLO\\valid\\labels\")))"
   ]
  },
  {
   "cell_type": "code",
   "execution_count": 17,
   "metadata": {},
   "outputs": [
    {
     "name": "stderr",
     "output_type": "stream",
     "text": [
      "100%|██████████| 44800/44800 [01:30<00:00, 497.06it/s]\n"
     ]
    },
    {
     "name": "stdout",
     "output_type": "stream",
     "text": [
      "44800\n"
     ]
    }
   ],
   "source": [
    "#JSON 파일을 YOLO 학습을 위해 변환_train\n",
    "\n",
    "#저장 디렉토리 설정\n",
    "save_dir = Path(r\"C:\\Users\\User\\HTP_Test\\YOLO\\train\\labels\")\n",
    "save_dir.mkdir(parents=True, exist_ok=True)\n",
    "\n",
    "folder_path = r\"C:\\Users\\User\\HTP_Test\\unzipped_data\\train\\label\"\n",
    "img_path=r\"C:\\Users\\User\\HTP_Test\\unzipped_data\\train\\image\"\n",
    "\n",
    "#변환 수행\n",
    "'''\n",
    "for file in tqdm(os.listdir(folder_path)):\n",
    "    file_path = os.path.join(folder_path, file)\n",
    "    convert_json_to_yolo(file_path, save_dir, img_path)\n",
    "'''\n",
    "print(len(os.listdir(r\"C:\\Users\\User\\HTP_Test\\YOLO\\train\\labels\")))"
   ]
  },
  {
   "cell_type": "code",
   "execution_count": 1,
   "metadata": {},
   "outputs": [],
   "source": [
    "#이미지 전처리\n",
    "\n",
    "import cv2\n",
    "from tqdm import tqdm\n",
    "import os\n",
    "import numpy as np\n",
    "import matplotlib.pyplot as plt\n",
    "\n",
    "def otsu(folder_path, output_path):\n",
    "    for file in tqdm(os.listdir(folder_path)):\n",
    "        img_path=os.path.join(folder_path, file)\n",
    "\n",
    "        stream = open(img_path, 'rb')\n",
    "        bytes_array = bytearray(stream.read())\n",
    "        np_array = np.asarray(bytes_array, dtype=np.uint8)\n",
    "        img = cv2.imdecode(np_array, cv2.IMREAD_GRAYSCALE)\n",
    "\n",
    "        #img=cv2.imread(img_path, 0) #그레이스케일 이미지\n",
    "        clahe = cv2.createCLAHE(clipLimit=1.0, tileGridSize=(8, 8))\n",
    "        enhanced = clahe.apply(img)\n",
    "        _, th3=cv2.threshold(enhanced, 0, 255, cv2.THRESH_BINARY + cv2.THRESH_OTSU)\n",
    "\n",
    "\n",
    "        filename = os.path.splitext(file)[0]\n",
    "        save_path = os.path.join(output_path, f\"{filename}.jpg\")\n",
    "        ext = os.path.splitext(save_path)[1]\n",
    "        result, encoded_img = cv2.imencode(ext, th3)\n",
    "        with open(save_path, mode='wb') as file:\n",
    "            file.write(encoded_img)"
   ]
  },
  {
   "cell_type": "code",
   "execution_count": 2,
   "metadata": {},
   "outputs": [],
   "source": [
    "def otsu1(img_path, output_path):\n",
    "    stream = open(img_path, 'rb')\n",
    "    bytes_array = bytearray(stream.read())\n",
    "    np_array = np.asarray(bytes_array, dtype=np.uint8)\n",
    "    img = cv2.imdecode(np_array, cv2.IMREAD_GRAYSCALE)\n",
    "    #가우시안 블러\n",
    "    img = cv2.GaussianBlur(img, (5, 5), 0)\n",
    "\n",
    "    #CLAHE\n",
    "    clahe = cv2.createCLAHE(clipLimit=1.0, tileGridSize=(8, 8))\n",
    "    img = clahe.apply(img)\n",
    "    \n",
    "    #Adaptive Thresholding\n",
    "    img = cv2.adaptiveThreshold(img, 255,  cv2.ADAPTIVE_THRESH_MEAN_C,  cv2.THRESH_BINARY, 11, 5)\n",
    "    \n",
    "\n",
    "    #Morphological Transformations\n",
    "    kernel = np.ones((3, 3), np.uint8)\n",
    "    res = cv2.morphologyEx(img, cv2.MORPH_OPEN, kernel)\n",
    "\n",
    "    res=cv2.fastNlMeansDenoising(img, dst=None, h=10, templateWindowSize=7, searchWindowSize=21)\n",
    "\n",
    "    filename = os.path.splitext(os.path.basename(img_path))[0]\n",
    "    save_path = os.path.join(output_path, f\"{filename}_adaptive.jpg\")\n",
    "    ext = os.path.splitext(save_path)[1]\n",
    "    result, encoded_img = cv2.imencode(ext, res)\n",
    "    with open(save_path, mode='wb') as file:\n",
    "        file.write(encoded_img)\n",
    "\n",
    "img_path=r'C:\\Users\\Minjeong\\Desktop\\파기딥프젝\\example.jpg'\n",
    "output_path=r'C:\\Users\\Minjeong\\Desktop\\파기딥프젝'\n",
    "otsu1(img_path, output_path)\n"
   ]
  },
  {
   "cell_type": "code",
   "execution_count": null,
   "metadata": {},
   "outputs": [
    {
     "name": "stderr",
     "output_type": "stream",
     "text": [
      "100%|██████████| 44800/44800 [10:46<00:00, 69.26it/s]\n"
     ]
    },
    {
     "data": {
      "text/plain": [
       "44800"
      ]
     },
     "execution_count": 5,
     "metadata": {},
     "output_type": "execute_result"
    }
   ],
   "source": [
    "folder_path=r'C:\\Users\\User\\HTP_Test\\unzipped_data\\train\\image'\n",
    "output_path=r'C:\\Users\\User\\HTP_Test\\YOLO\\train\\images'\n",
    "#otsu(folder_path, output_path)\n",
    "len(os.listdir(r'C:\\Users\\User\\HTP_Test\\YOLO\\train\\images'))"
   ]
  },
  {
   "cell_type": "code",
   "execution_count": null,
   "metadata": {},
   "outputs": [
    {
     "name": "stderr",
     "output_type": "stream",
     "text": [
      "100%|██████████| 5600/5600 [01:45<00:00, 53.00it/s]\n"
     ]
    },
    {
     "data": {
      "text/plain": [
       "5600"
      ]
     },
     "execution_count": 8,
     "metadata": {},
     "output_type": "execute_result"
    }
   ],
   "source": [
    "folder_path=r'C:\\Users\\User\\HTP_Test\\unzipped_data\\validation\\image'\n",
    "output_path=r'C:\\Users\\User\\HTP_Test\\YOLO\\valid\\images'\n",
    "#otsu(folder_path, output_path)\n",
    "len(os.listdir(r'C:\\Users\\User\\HTP_Test\\YOLO\\valid\\images'))"
   ]
  }
 ],
 "metadata": {
  "kernelspec": {
   "display_name": "Python 3",
   "language": "python",
   "name": "python3"
  },
  "language_info": {
   "codemirror_mode": {
    "name": "ipython",
    "version": 3
   },
   "file_extension": ".py",
   "mimetype": "text/x-python",
   "name": "python",
   "nbconvert_exporter": "python",
   "pygments_lexer": "ipython3",
   "version": "3.10.6"
  }
 },
 "nbformat": 4,
 "nbformat_minor": 2
}
