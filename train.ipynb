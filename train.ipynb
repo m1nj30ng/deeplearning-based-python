{
 "cells": [
  {
   "cell_type": "code",
   "execution_count": 1,
   "metadata": {},
   "outputs": [
    {
     "name": "stdout",
     "output_type": "stream",
     "text": [
      "New https://pypi.org/project/ultralytics/8.3.35 available  Update with 'pip install -U ultralytics'\n",
      "Ultralytics 8.3.32  Python-3.11.9 torch-2.5.1+cu124 CUDA:0 (NVIDIA GeForce RTX 4070, 12282MiB)\n",
      "\u001b[34m\u001b[1mengine\\trainer: \u001b[0mtask=detect, mode=train, model=yolo11n.pt, data=C:\\Users\\User\\HTP_Test\\yolo.yaml, epochs=100, time=None, patience=100, batch=16, imgsz=640, save=True, save_period=-1, cache=False, device=cuda, workers=8, project=None, name=train5, exist_ok=False, pretrained=True, optimizer=auto, verbose=True, seed=0, deterministic=True, single_cls=False, rect=False, cos_lr=False, close_mosaic=10, resume=False, amp=True, fraction=1.0, profile=False, freeze=None, multi_scale=False, overlap_mask=True, mask_ratio=4, dropout=0.0, val=True, split=val, save_json=False, save_hybrid=False, conf=None, iou=0.7, max_det=300, half=False, dnn=False, plots=True, source=None, vid_stride=1, stream_buffer=False, visualize=False, augment=False, agnostic_nms=False, classes=None, retina_masks=False, embed=None, show=False, save_frames=False, save_txt=False, save_conf=False, save_crop=False, show_labels=True, show_conf=True, show_boxes=True, line_width=None, format=torchscript, keras=False, optimize=False, int8=False, dynamic=False, simplify=True, opset=None, workspace=4, nms=False, lr0=0.01, lrf=0.01, momentum=0.937, weight_decay=0.0005, warmup_epochs=3.0, warmup_momentum=0.8, warmup_bias_lr=0.1, box=7.5, cls=0.5, dfl=1.5, pose=12.0, kobj=1.0, label_smoothing=0.0, nbs=64, hsv_h=0.015, hsv_s=0.7, hsv_v=0.4, degrees=0.0, translate=0.1, scale=0.5, shear=0.0, perspective=0.0, flipud=0.0, fliplr=0.5, bgr=0.0, mosaic=1.0, mixup=0.0, copy_paste=0.0, copy_paste_mode=flip, auto_augment=randaugment, erasing=0.4, crop_fraction=1.0, cfg=None, tracker=botsort.yaml, save_dir=runs\\detect\\train5\n",
      "Overriding model.yaml nc=80 with nc=36\n",
      "\n",
      "                   from  n    params  module                                       arguments                     \n",
      "  0                  -1  1       464  ultralytics.nn.modules.conv.Conv             [3, 16, 3, 2]                 \n",
      "  1                  -1  1      4672  ultralytics.nn.modules.conv.Conv             [16, 32, 3, 2]                \n",
      "  2                  -1  1      6640  ultralytics.nn.modules.block.C3k2            [32, 64, 1, False, 0.25]      \n",
      "  3                  -1  1     36992  ultralytics.nn.modules.conv.Conv             [64, 64, 3, 2]                \n",
      "  4                  -1  1     26080  ultralytics.nn.modules.block.C3k2            [64, 128, 1, False, 0.25]     \n",
      "  5                  -1  1    147712  ultralytics.nn.modules.conv.Conv             [128, 128, 3, 2]              \n",
      "  6                  -1  1     87040  ultralytics.nn.modules.block.C3k2            [128, 128, 1, True]           \n",
      "  7                  -1  1    295424  ultralytics.nn.modules.conv.Conv             [128, 256, 3, 2]              \n",
      "  8                  -1  1    346112  ultralytics.nn.modules.block.C3k2            [256, 256, 1, True]           \n",
      "  9                  -1  1    164608  ultralytics.nn.modules.block.SPPF            [256, 256, 5]                 \n",
      " 10                  -1  1    249728  ultralytics.nn.modules.block.C2PSA           [256, 256, 1]                 \n",
      " 11                  -1  1         0  torch.nn.modules.upsampling.Upsample         [None, 2, 'nearest']          \n",
      " 12             [-1, 6]  1         0  ultralytics.nn.modules.conv.Concat           [1]                           \n",
      " 13                  -1  1    111296  ultralytics.nn.modules.block.C3k2            [384, 128, 1, False]          \n",
      " 14                  -1  1         0  torch.nn.modules.upsampling.Upsample         [None, 2, 'nearest']          \n",
      " 15             [-1, 4]  1         0  ultralytics.nn.modules.conv.Concat           [1]                           \n",
      " 16                  -1  1     32096  ultralytics.nn.modules.block.C3k2            [256, 64, 1, False]           \n",
      " 17                  -1  1     36992  ultralytics.nn.modules.conv.Conv             [64, 64, 3, 2]                \n",
      " 18            [-1, 13]  1         0  ultralytics.nn.modules.conv.Concat           [1]                           \n",
      " 19                  -1  1     86720  ultralytics.nn.modules.block.C3k2            [192, 128, 1, False]          \n",
      " 20                  -1  1    147712  ultralytics.nn.modules.conv.Conv             [128, 128, 3, 2]              \n",
      " 21            [-1, 10]  1         0  ultralytics.nn.modules.conv.Concat           [1]                           \n",
      " 22                  -1  1    378880  ultralytics.nn.modules.block.C3k2            [384, 256, 1, True]           \n",
      " 23        [16, 19, 22]  1    437692  ultralytics.nn.modules.head.Detect           [36, [64, 128, 256]]          \n",
      "YOLO11n summary: 319 layers, 2,596,860 parameters, 2,596,844 gradients, 6.5 GFLOPs\n",
      "\n",
      "Transferred 448/499 items from pretrained weights\n",
      "Freezing layer 'model.23.dfl.conv.weight'\n",
      "\u001b[34m\u001b[1mAMP: \u001b[0mrunning Automatic Mixed Precision (AMP) checks...\n",
      "\u001b[34m\u001b[1mAMP: \u001b[0mchecks passed \n"
     ]
    },
    {
     "name": "stderr",
     "output_type": "stream",
     "text": [
      "\u001b[34m\u001b[1mtrain: \u001b[0mScanning C:\\Users\\User\\HTP_Test\\YOLO\\train\\labels.cache... 44800 images, 0 backgrounds, 0 corrupt: 100%|██████████| 44800/44800 [00:00<?, ?it/s]"
     ]
    },
    {
     "name": "stdout",
     "output_type": "stream",
     "text": [
      "\u001b[34m\u001b[1mtrain: \u001b[0mWARNING  C:\\Users\\User\\HTP_Test\\YOLO\\train\\images\\_12__07461.jpg: 1 duplicate labels removed\n"
     ]
    },
    {
     "name": "stderr",
     "output_type": "stream",
     "text": [
      "\n",
      "\u001b[34m\u001b[1mval: \u001b[0mScanning C:\\Users\\User\\HTP_Test\\YOLO\\valid\\labels.cache... 5600 images, 0 backgrounds, 0 corrupt: 100%|██████████| 5600/5600 [00:00<?, ?it/s]\n"
     ]
    },
    {
     "name": "stdout",
     "output_type": "stream",
     "text": [
      "Plotting labels to runs\\detect\\train5\\labels.jpg... \n",
      "\u001b[34m\u001b[1moptimizer:\u001b[0m 'optimizer=auto' found, ignoring 'lr0=0.01' and 'momentum=0.937' and determining best 'optimizer', 'lr0' and 'momentum' automatically... \n",
      "\u001b[34m\u001b[1moptimizer:\u001b[0m SGD(lr=0.01, momentum=0.9) with parameter groups 81 weight(decay=0.0), 88 weight(decay=0.0005), 87 bias(decay=0.0)\n",
      "Image sizes 640 train, 640 val\n",
      "Using 8 dataloader workers\n",
      "Logging results to \u001b[1mruns\\detect\\train5\u001b[0m\n",
      "Starting training for 100 epochs...\n",
      "\n",
      "      Epoch    GPU_mem   box_loss   cls_loss   dfl_loss  Instances       Size\n"
     ]
    },
    {
     "name": "stderr",
     "output_type": "stream",
     "text": [
      "      1/100       4.6G     0.9653       1.96      1.096        452        640: 100%|██████████| 2800/2800 [04:46<00:00,  9.79it/s]\n",
      "                 Class     Images  Instances      Box(P          R      mAP50  mAP50-95): 100%|██████████| 175/175 [00:23<00:00,  7.31it/s]\n"
     ]
    },
    {
     "name": "stdout",
     "output_type": "stream",
     "text": [
      "                   all       5600     110033      0.897      0.869      0.918      0.722\n",
      "\n",
      "      Epoch    GPU_mem   box_loss   cls_loss   dfl_loss  Instances       Size\n"
     ]
    },
    {
     "name": "stderr",
     "output_type": "stream",
     "text": [
      "      2/100       4.1G     0.8448     0.8366      1.026        526        640: 100%|██████████| 2800/2800 [04:26<00:00, 10.49it/s]\n",
      "                 Class     Images  Instances      Box(P          R      mAP50  mAP50-95): 100%|██████████| 175/175 [00:22<00:00,  7.68it/s]\n"
     ]
    },
    {
     "name": "stdout",
     "output_type": "stream",
     "text": [
      "                   all       5600     110033      0.921      0.901      0.941      0.753\n",
      "\n",
      "      Epoch    GPU_mem   box_loss   cls_loss   dfl_loss  Instances       Size\n"
     ]
    },
    {
     "name": "stderr",
     "output_type": "stream",
     "text": [
      "      3/100      4.27G     0.8469     0.7767      1.024        364        640: 100%|██████████| 2800/2800 [04:20<00:00, 10.76it/s]\n",
      "                 Class     Images  Instances      Box(P          R      mAP50  mAP50-95): 100%|██████████| 175/175 [00:23<00:00,  7.52it/s]\n"
     ]
    },
    {
     "name": "stdout",
     "output_type": "stream",
     "text": [
      "                   all       5600     110033      0.922      0.899      0.942      0.753\n",
      "\n",
      "      Epoch    GPU_mem   box_loss   cls_loss   dfl_loss  Instances       Size\n"
     ]
    },
    {
     "name": "stderr",
     "output_type": "stream",
     "text": [
      "      4/100      4.36G     0.8303     0.7187       1.02        376        640: 100%|██████████| 2800/2800 [04:17<00:00, 10.88it/s]\n",
      "                 Class     Images  Instances      Box(P          R      mAP50  mAP50-95): 100%|██████████| 175/175 [00:22<00:00,  7.62it/s]\n"
     ]
    },
    {
     "name": "stdout",
     "output_type": "stream",
     "text": [
      "                   all       5600     110033      0.935      0.917      0.955      0.782\n",
      "\n",
      "      Epoch    GPU_mem   box_loss   cls_loss   dfl_loss  Instances       Size\n"
     ]
    },
    {
     "name": "stderr",
     "output_type": "stream",
     "text": [
      "      5/100      4.76G     0.7951     0.6462      1.007        545        640: 100%|██████████| 2800/2800 [04:20<00:00, 10.76it/s]\n",
      "                 Class     Images  Instances      Box(P          R      mAP50  mAP50-95): 100%|██████████| 175/175 [00:22<00:00,  7.81it/s]\n"
     ]
    },
    {
     "name": "stdout",
     "output_type": "stream",
     "text": [
      "                   all       5600     110033      0.942      0.924      0.959      0.794\n",
      "\n",
      "      Epoch    GPU_mem   box_loss   cls_loss   dfl_loss  Instances       Size\n"
     ]
    },
    {
     "name": "stderr",
     "output_type": "stream",
     "text": [
      "      6/100      4.84G     0.7747     0.6038     0.9984        517        640: 100%|██████████| 2800/2800 [04:16<00:00, 10.91it/s]\n",
      "                 Class     Images  Instances      Box(P          R      mAP50  mAP50-95): 100%|██████████| 175/175 [00:22<00:00,  7.72it/s]\n"
     ]
    },
    {
     "name": "stdout",
     "output_type": "stream",
     "text": [
      "                   all       5600     110033      0.949       0.93      0.964      0.806\n",
      "\n",
      "      Epoch    GPU_mem   box_loss   cls_loss   dfl_loss  Instances       Size\n"
     ]
    },
    {
     "name": "stderr",
     "output_type": "stream",
     "text": [
      "      7/100      4.85G     0.7595     0.5773     0.9924        561        640: 100%|██████████| 2800/2800 [04:15<00:00, 10.94it/s]\n",
      "                 Class     Images  Instances      Box(P          R      mAP50  mAP50-95): 100%|██████████| 175/175 [00:21<00:00,  7.98it/s]\n"
     ]
    },
    {
     "name": "stdout",
     "output_type": "stream",
     "text": [
      "                   all       5600     110033       0.95      0.936      0.967      0.814\n",
      "\n",
      "      Epoch    GPU_mem   box_loss   cls_loss   dfl_loss  Instances       Size\n"
     ]
    },
    {
     "name": "stderr",
     "output_type": "stream",
     "text": [
      "      8/100      5.01G     0.7501      0.561     0.9884        406        640: 100%|██████████| 2800/2800 [04:15<00:00, 10.95it/s]\n",
      "                 Class     Images  Instances      Box(P          R      mAP50  mAP50-95): 100%|██████████| 175/175 [00:21<00:00,  7.96it/s]\n"
     ]
    },
    {
     "name": "stdout",
     "output_type": "stream",
     "text": [
      "                   all       5600     110033      0.953      0.937      0.968      0.819\n",
      "\n",
      "      Epoch    GPU_mem   box_loss   cls_loss   dfl_loss  Instances       Size\n"
     ]
    },
    {
     "name": "stderr",
     "output_type": "stream",
     "text": [
      "      9/100      5.22G     0.7401     0.5486     0.9857        538        640: 100%|██████████| 2800/2800 [04:20<00:00, 10.76it/s]\n",
      "                 Class     Images  Instances      Box(P          R      mAP50  mAP50-95): 100%|██████████| 175/175 [00:23<00:00,  7.55it/s]\n"
     ]
    },
    {
     "name": "stdout",
     "output_type": "stream",
     "text": [
      "                   all       5600     110033      0.955      0.939      0.969      0.823\n",
      "\n",
      "      Epoch    GPU_mem   box_loss   cls_loss   dfl_loss  Instances       Size\n"
     ]
    },
    {
     "name": "stderr",
     "output_type": "stream",
     "text": [
      "     10/100      5.68G     0.7344     0.5388     0.9824        504        640: 100%|██████████| 2800/2800 [04:17<00:00, 10.86it/s]\n",
      "                 Class     Images  Instances      Box(P          R      mAP50  mAP50-95): 100%|██████████| 175/175 [00:22<00:00,  7.85it/s]\n"
     ]
    },
    {
     "name": "stdout",
     "output_type": "stream",
     "text": [
      "                   all       5600     110033      0.957      0.941      0.971      0.827\n",
      "\n",
      "      Epoch    GPU_mem   box_loss   cls_loss   dfl_loss  Instances       Size\n"
     ]
    },
    {
     "name": "stderr",
     "output_type": "stream",
     "text": [
      "     11/100      4.88G     0.7278     0.5284     0.9797        433        640: 100%|██████████| 2800/2800 [04:17<00:00, 10.89it/s]\n",
      "                 Class     Images  Instances      Box(P          R      mAP50  mAP50-95): 100%|██████████| 175/175 [00:22<00:00,  7.90it/s]\n"
     ]
    },
    {
     "name": "stdout",
     "output_type": "stream",
     "text": [
      "                   all       5600     110033      0.956      0.944      0.972      0.829\n",
      "\n",
      "      Epoch    GPU_mem   box_loss   cls_loss   dfl_loss  Instances       Size\n"
     ]
    },
    {
     "name": "stderr",
     "output_type": "stream",
     "text": [
      "     12/100      4.48G      0.723     0.5228     0.9782        485        640: 100%|██████████| 2800/2800 [04:16<00:00, 10.91it/s]\n",
      "                 Class     Images  Instances      Box(P          R      mAP50  mAP50-95): 100%|██████████| 175/175 [00:21<00:00,  7.99it/s]\n"
     ]
    },
    {
     "name": "stdout",
     "output_type": "stream",
     "text": [
      "                   all       5600     110033      0.958      0.945      0.973      0.832\n",
      "\n",
      "      Epoch    GPU_mem   box_loss   cls_loss   dfl_loss  Instances       Size\n"
     ]
    },
    {
     "name": "stderr",
     "output_type": "stream",
     "text": [
      "     13/100       3.9G     0.7194      0.516     0.9754        523        640: 100%|██████████| 2800/2800 [04:15<00:00, 10.96it/s]\n",
      "                 Class     Images  Instances      Box(P          R      mAP50  mAP50-95): 100%|██████████| 175/175 [00:22<00:00,  7.91it/s]\n"
     ]
    },
    {
     "name": "stdout",
     "output_type": "stream",
     "text": [
      "                   all       5600     110033       0.96      0.946      0.973      0.835\n",
      "\n",
      "      Epoch    GPU_mem   box_loss   cls_loss   dfl_loss  Instances       Size\n"
     ]
    },
    {
     "name": "stderr",
     "output_type": "stream",
     "text": [
      "     14/100      5.06G      0.715     0.5106     0.9732        461        640: 100%|██████████| 2800/2800 [04:16<00:00, 10.94it/s]\n",
      "                 Class     Images  Instances      Box(P          R      mAP50  mAP50-95): 100%|██████████| 175/175 [00:22<00:00,  7.88it/s]\n"
     ]
    },
    {
     "name": "stdout",
     "output_type": "stream",
     "text": [
      "                   all       5600     110033       0.96      0.947      0.974      0.836\n",
      "\n",
      "      Epoch    GPU_mem   box_loss   cls_loss   dfl_loss  Instances       Size\n"
     ]
    },
    {
     "name": "stderr",
     "output_type": "stream",
     "text": [
      "     15/100      5.11G     0.7118     0.5063     0.9709        485        640: 100%|██████████| 2800/2800 [04:16<00:00, 10.92it/s]\n",
      "                 Class     Images  Instances      Box(P          R      mAP50  mAP50-95): 100%|██████████| 175/175 [00:21<00:00,  8.03it/s]\n"
     ]
    },
    {
     "name": "stdout",
     "output_type": "stream",
     "text": [
      "                   all       5600     110033      0.961      0.947      0.974      0.837\n",
      "\n",
      "      Epoch    GPU_mem   box_loss   cls_loss   dfl_loss  Instances       Size\n"
     ]
    },
    {
     "name": "stderr",
     "output_type": "stream",
     "text": [
      "     16/100       4.2G     0.7092     0.5022     0.9702        488        640: 100%|██████████| 2800/2800 [04:15<00:00, 10.97it/s]\n",
      "                 Class     Images  Instances      Box(P          R      mAP50  mAP50-95): 100%|██████████| 175/175 [00:22<00:00,  7.92it/s]\n"
     ]
    },
    {
     "name": "stdout",
     "output_type": "stream",
     "text": [
      "                   all       5600     110033      0.961      0.949      0.975      0.839\n",
      "\n",
      "      Epoch    GPU_mem   box_loss   cls_loss   dfl_loss  Instances       Size\n"
     ]
    },
    {
     "name": "stderr",
     "output_type": "stream",
     "text": [
      "     17/100      5.34G     0.7068      0.498     0.9696        536        640: 100%|██████████| 2800/2800 [04:14<00:00, 10.99it/s]\n",
      "                 Class     Images  Instances      Box(P          R      mAP50  mAP50-95): 100%|██████████| 175/175 [00:22<00:00,  7.90it/s]\n"
     ]
    },
    {
     "name": "stdout",
     "output_type": "stream",
     "text": [
      "                   all       5600     110033      0.962      0.948      0.975       0.84\n",
      "\n",
      "      Epoch    GPU_mem   box_loss   cls_loss   dfl_loss  Instances       Size\n"
     ]
    },
    {
     "name": "stderr",
     "output_type": "stream",
     "text": [
      "     18/100       5.2G     0.7038     0.4941      0.968        394        640: 100%|██████████| 2800/2800 [04:14<00:00, 11.02it/s]\n",
      "                 Class     Images  Instances      Box(P          R      mAP50  mAP50-95): 100%|██████████| 175/175 [00:22<00:00,  7.81it/s]\n"
     ]
    },
    {
     "name": "stdout",
     "output_type": "stream",
     "text": [
      "                   all       5600     110033      0.962      0.949      0.975      0.841\n",
      "\n",
      "      Epoch    GPU_mem   box_loss   cls_loss   dfl_loss  Instances       Size\n"
     ]
    },
    {
     "name": "stderr",
     "output_type": "stream",
     "text": [
      "     19/100      3.67G     0.7002     0.4904     0.9661        385        640: 100%|██████████| 2800/2800 [04:14<00:00, 10.99it/s]\n",
      "                 Class     Images  Instances      Box(P          R      mAP50  mAP50-95): 100%|██████████| 175/175 [00:21<00:00,  8.00it/s]\n"
     ]
    },
    {
     "name": "stdout",
     "output_type": "stream",
     "text": [
      "                   all       5600     110033      0.963      0.949      0.975      0.842\n",
      "\n",
      "      Epoch    GPU_mem   box_loss   cls_loss   dfl_loss  Instances       Size\n"
     ]
    },
    {
     "name": "stderr",
     "output_type": "stream",
     "text": [
      "     20/100      4.36G     0.6976     0.4868     0.9658        394        640: 100%|██████████| 2800/2800 [04:13<00:00, 11.03it/s]\n",
      "                 Class     Images  Instances      Box(P          R      mAP50  mAP50-95): 100%|██████████| 175/175 [00:21<00:00,  7.97it/s]\n"
     ]
    },
    {
     "name": "stdout",
     "output_type": "stream",
     "text": [
      "                   all       5600     110033      0.963      0.949      0.975      0.843\n",
      "\n",
      "      Epoch    GPU_mem   box_loss   cls_loss   dfl_loss  Instances       Size\n"
     ]
    },
    {
     "name": "stderr",
     "output_type": "stream",
     "text": [
      "     21/100       4.7G     0.6961     0.4848     0.9633        511        640: 100%|██████████| 2800/2800 [04:14<00:00, 11.02it/s]\n",
      "                 Class     Images  Instances      Box(P          R      mAP50  mAP50-95): 100%|██████████| 175/175 [00:21<00:00,  7.98it/s]\n"
     ]
    },
    {
     "name": "stdout",
     "output_type": "stream",
     "text": [
      "                   all       5600     110033      0.964       0.95      0.976      0.843\n",
      "\n",
      "      Epoch    GPU_mem   box_loss   cls_loss   dfl_loss  Instances       Size\n"
     ]
    },
    {
     "name": "stderr",
     "output_type": "stream",
     "text": [
      "     22/100      3.87G     0.6962     0.4836     0.9647        502        640: 100%|██████████| 2800/2800 [04:13<00:00, 11.05it/s]\n",
      "                 Class     Images  Instances      Box(P          R      mAP50  mAP50-95): 100%|██████████| 175/175 [00:21<00:00,  8.08it/s]\n"
     ]
    },
    {
     "name": "stdout",
     "output_type": "stream",
     "text": [
      "                   all       5600     110033      0.963       0.95      0.976      0.844\n",
      "\n",
      "      Epoch    GPU_mem   box_loss   cls_loss   dfl_loss  Instances       Size\n"
     ]
    },
    {
     "name": "stderr",
     "output_type": "stream",
     "text": [
      "     23/100      4.14G      0.693     0.4804     0.9631        449        640: 100%|██████████| 2800/2800 [04:12<00:00, 11.08it/s]\n",
      "                 Class     Images  Instances      Box(P          R      mAP50  mAP50-95): 100%|██████████| 175/175 [00:21<00:00,  8.03it/s]\n"
     ]
    },
    {
     "name": "stdout",
     "output_type": "stream",
     "text": [
      "                   all       5600     110033      0.964       0.95      0.976      0.844\n",
      "\n",
      "      Epoch    GPU_mem   box_loss   cls_loss   dfl_loss  Instances       Size\n"
     ]
    },
    {
     "name": "stderr",
     "output_type": "stream",
     "text": [
      "     24/100       4.8G     0.6918     0.4784     0.9626        445        640: 100%|██████████| 2800/2800 [04:13<00:00, 11.05it/s]\n",
      "                 Class     Images  Instances      Box(P          R      mAP50  mAP50-95): 100%|██████████| 175/175 [00:21<00:00,  8.09it/s]\n"
     ]
    },
    {
     "name": "stdout",
     "output_type": "stream",
     "text": [
      "                   all       5600     110033      0.964       0.95      0.976      0.845\n",
      "\n",
      "      Epoch    GPU_mem   box_loss   cls_loss   dfl_loss  Instances       Size\n"
     ]
    },
    {
     "name": "stderr",
     "output_type": "stream",
     "text": [
      "     25/100      4.29G     0.6895     0.4766     0.9619        367        640: 100%|██████████| 2800/2800 [04:14<00:00, 10.99it/s]\n",
      "                 Class     Images  Instances      Box(P          R      mAP50  mAP50-95): 100%|██████████| 175/175 [00:21<00:00,  7.97it/s]\n"
     ]
    },
    {
     "name": "stdout",
     "output_type": "stream",
     "text": [
      "                   all       5600     110033      0.964      0.951      0.976      0.845\n",
      "\n",
      "      Epoch    GPU_mem   box_loss   cls_loss   dfl_loss  Instances       Size\n"
     ]
    },
    {
     "name": "stderr",
     "output_type": "stream",
     "text": [
      "     26/100      4.46G     0.6884     0.4738     0.9604        477        640: 100%|██████████| 2800/2800 [04:13<00:00, 11.03it/s]\n",
      "                 Class     Images  Instances      Box(P          R      mAP50  mAP50-95): 100%|██████████| 175/175 [00:21<00:00,  8.00it/s]\n"
     ]
    },
    {
     "name": "stdout",
     "output_type": "stream",
     "text": [
      "                   all       5600     110033      0.964       0.95      0.976      0.846\n",
      "\n",
      "      Epoch    GPU_mem   box_loss   cls_loss   dfl_loss  Instances       Size\n"
     ]
    },
    {
     "name": "stderr",
     "output_type": "stream",
     "text": [
      "     27/100      4.23G     0.6862     0.4727     0.9607        439        640: 100%|██████████| 2800/2800 [04:13<00:00, 11.04it/s]\n",
      "                 Class     Images  Instances      Box(P          R      mAP50  mAP50-95): 100%|██████████| 175/175 [00:22<00:00,  7.95it/s]\n"
     ]
    },
    {
     "name": "stdout",
     "output_type": "stream",
     "text": [
      "                   all       5600     110033      0.964       0.95      0.976      0.846\n",
      "\n",
      "      Epoch    GPU_mem   box_loss   cls_loss   dfl_loss  Instances       Size\n"
     ]
    },
    {
     "name": "stderr",
     "output_type": "stream",
     "text": [
      "     28/100      3.82G     0.6847     0.4711     0.9604        444        640: 100%|██████████| 2800/2800 [04:13<00:00, 11.03it/s]\n",
      "                 Class     Images  Instances      Box(P          R      mAP50  mAP50-95): 100%|██████████| 175/175 [00:21<00:00,  8.01it/s]\n"
     ]
    },
    {
     "name": "stdout",
     "output_type": "stream",
     "text": [
      "                   all       5600     110033      0.964      0.951      0.976      0.846\n",
      "\n",
      "      Epoch    GPU_mem   box_loss   cls_loss   dfl_loss  Instances       Size\n"
     ]
    },
    {
     "name": "stderr",
     "output_type": "stream",
     "text": [
      "     29/100      4.26G     0.6836     0.4689     0.9589        366        640: 100%|██████████| 2800/2800 [04:16<00:00, 10.92it/s]\n",
      "                 Class     Images  Instances      Box(P          R      mAP50  mAP50-95): 100%|██████████| 175/175 [00:21<00:00,  7.97it/s]\n"
     ]
    },
    {
     "name": "stdout",
     "output_type": "stream",
     "text": [
      "                   all       5600     110033      0.964      0.951      0.977      0.846\n",
      "\n",
      "      Epoch    GPU_mem   box_loss   cls_loss   dfl_loss  Instances       Size\n"
     ]
    },
    {
     "name": "stderr",
     "output_type": "stream",
     "text": [
      "     30/100      4.23G     0.6832     0.4683     0.9593        399        640: 100%|██████████| 2800/2800 [04:15<00:00, 10.94it/s]\n",
      "                 Class     Images  Instances      Box(P          R      mAP50  mAP50-95): 100%|██████████| 175/175 [00:22<00:00,  7.84it/s]\n"
     ]
    },
    {
     "name": "stdout",
     "output_type": "stream",
     "text": [
      "                   all       5600     110033      0.964      0.951      0.977      0.847\n",
      "\n",
      "      Epoch    GPU_mem   box_loss   cls_loss   dfl_loss  Instances       Size\n"
     ]
    },
    {
     "name": "stderr",
     "output_type": "stream",
     "text": [
      "     31/100      4.62G     0.6823     0.4658     0.9584        491        640: 100%|██████████| 2800/2800 [04:15<00:00, 10.96it/s]\n",
      "                 Class     Images  Instances      Box(P          R      mAP50  mAP50-95): 100%|██████████| 175/175 [00:22<00:00,  7.89it/s]\n"
     ]
    },
    {
     "name": "stdout",
     "output_type": "stream",
     "text": [
      "                   all       5600     110033      0.963      0.952      0.977      0.847\n",
      "\n",
      "      Epoch    GPU_mem   box_loss   cls_loss   dfl_loss  Instances       Size\n"
     ]
    },
    {
     "name": "stderr",
     "output_type": "stream",
     "text": [
      "     32/100      4.99G     0.6807     0.4649     0.9581        430        640: 100%|██████████| 2800/2800 [04:14<00:00, 10.99it/s]\n",
      "                 Class     Images  Instances      Box(P          R      mAP50  mAP50-95): 100%|██████████| 175/175 [00:22<00:00,  7.77it/s]\n"
     ]
    },
    {
     "name": "stdout",
     "output_type": "stream",
     "text": [
      "                   all       5600     110033      0.964      0.952      0.977      0.847\n",
      "\n",
      "      Epoch    GPU_mem   box_loss   cls_loss   dfl_loss  Instances       Size\n"
     ]
    },
    {
     "name": "stderr",
     "output_type": "stream",
     "text": [
      "     33/100      3.82G     0.6796     0.4635     0.9573        355        640: 100%|██████████| 2800/2800 [04:14<00:00, 11.00it/s]\n",
      "                 Class     Images  Instances      Box(P          R      mAP50  mAP50-95): 100%|██████████| 175/175 [00:22<00:00,  7.88it/s]\n"
     ]
    },
    {
     "name": "stdout",
     "output_type": "stream",
     "text": [
      "                   all       5600     110033      0.964      0.952      0.977      0.847\n",
      "\n",
      "      Epoch    GPU_mem   box_loss   cls_loss   dfl_loss  Instances       Size\n"
     ]
    },
    {
     "name": "stderr",
     "output_type": "stream",
     "text": [
      "     34/100      3.63G      0.679      0.462     0.9577        486        640: 100%|██████████| 2800/2800 [04:14<00:00, 11.00it/s]\n",
      "                 Class     Images  Instances      Box(P          R      mAP50  mAP50-95): 100%|██████████| 175/175 [00:22<00:00,  7.90it/s]\n"
     ]
    },
    {
     "name": "stdout",
     "output_type": "stream",
     "text": [
      "                   all       5600     110033      0.964      0.952      0.977      0.848\n",
      "\n",
      "      Epoch    GPU_mem   box_loss   cls_loss   dfl_loss  Instances       Size\n"
     ]
    },
    {
     "name": "stderr",
     "output_type": "stream",
     "text": [
      "     35/100      4.96G     0.6765     0.4611     0.9557        488        640: 100%|██████████| 2800/2800 [04:15<00:00, 10.96it/s]\n",
      "                 Class     Images  Instances      Box(P          R      mAP50  mAP50-95): 100%|██████████| 175/175 [00:22<00:00,  7.93it/s]\n"
     ]
    },
    {
     "name": "stdout",
     "output_type": "stream",
     "text": [
      "                   all       5600     110033      0.964      0.953      0.977      0.848\n",
      "\n",
      "      Epoch    GPU_mem   box_loss   cls_loss   dfl_loss  Instances       Size\n"
     ]
    },
    {
     "name": "stderr",
     "output_type": "stream",
     "text": [
      "     36/100      4.82G     0.6769     0.4599     0.9568        500        640: 100%|██████████| 2800/2800 [04:14<00:00, 11.00it/s]\n",
      "                 Class     Images  Instances      Box(P          R      mAP50  mAP50-95): 100%|██████████| 175/175 [00:22<00:00,  7.89it/s]\n"
     ]
    },
    {
     "name": "stdout",
     "output_type": "stream",
     "text": [
      "                   all       5600     110033      0.964      0.953      0.977      0.848\n",
      "\n",
      "      Epoch    GPU_mem   box_loss   cls_loss   dfl_loss  Instances       Size\n"
     ]
    },
    {
     "name": "stderr",
     "output_type": "stream",
     "text": [
      "     37/100       4.4G     0.6751     0.4575     0.9563        321        640: 100%|██████████| 2800/2800 [04:15<00:00, 10.98it/s]\n",
      "                 Class     Images  Instances      Box(P          R      mAP50  mAP50-95): 100%|██████████| 175/175 [00:22<00:00,  7.86it/s]\n"
     ]
    },
    {
     "name": "stdout",
     "output_type": "stream",
     "text": [
      "                   all       5600     110033      0.964      0.953      0.977      0.849\n",
      "\n",
      "      Epoch    GPU_mem   box_loss   cls_loss   dfl_loss  Instances       Size\n"
     ]
    },
    {
     "name": "stderr",
     "output_type": "stream",
     "text": [
      "     38/100       5.8G      0.675     0.4567      0.956        515        640: 100%|██████████| 2800/2800 [04:13<00:00, 11.04it/s]\n",
      "                 Class     Images  Instances      Box(P          R      mAP50  mAP50-95): 100%|██████████| 175/175 [00:22<00:00,  7.91it/s]\n"
     ]
    },
    {
     "name": "stdout",
     "output_type": "stream",
     "text": [
      "                   all       5600     110033      0.964      0.954      0.977      0.849\n",
      "\n",
      "      Epoch    GPU_mem   box_loss   cls_loss   dfl_loss  Instances       Size\n"
     ]
    },
    {
     "name": "stderr",
     "output_type": "stream",
     "text": [
      "     39/100      4.54G     0.6731     0.4556     0.9555        506        640: 100%|██████████| 2800/2800 [04:14<00:00, 11.02it/s]\n",
      "                 Class     Images  Instances      Box(P          R      mAP50  mAP50-95): 100%|██████████| 175/175 [00:22<00:00,  7.92it/s]\n"
     ]
    },
    {
     "name": "stdout",
     "output_type": "stream",
     "text": [
      "                   all       5600     110033      0.964      0.954      0.977      0.849\n",
      "\n",
      "      Epoch    GPU_mem   box_loss   cls_loss   dfl_loss  Instances       Size\n"
     ]
    },
    {
     "name": "stderr",
     "output_type": "stream",
     "text": [
      "     40/100      4.79G     0.6732     0.4543     0.9553        587        640: 100%|██████████| 2800/2800 [04:14<00:00, 11.01it/s]\n",
      "                 Class     Images  Instances      Box(P          R      mAP50  mAP50-95): 100%|██████████| 175/175 [00:21<00:00,  7.96it/s]\n"
     ]
    },
    {
     "name": "stdout",
     "output_type": "stream",
     "text": [
      "                   all       5600     110033      0.965      0.954      0.977      0.849\n",
      "\n",
      "      Epoch    GPU_mem   box_loss   cls_loss   dfl_loss  Instances       Size\n"
     ]
    },
    {
     "name": "stderr",
     "output_type": "stream",
     "text": [
      "     41/100       5.1G     0.6714     0.4537     0.9542        512        640: 100%|██████████| 2800/2800 [04:14<00:00, 11.01it/s]\n",
      "                 Class     Images  Instances      Box(P          R      mAP50  mAP50-95): 100%|██████████| 175/175 [00:21<00:00,  7.96it/s]\n"
     ]
    },
    {
     "name": "stdout",
     "output_type": "stream",
     "text": [
      "                   all       5600     110033      0.965      0.953      0.977       0.85\n",
      "\n",
      "      Epoch    GPU_mem   box_loss   cls_loss   dfl_loss  Instances       Size\n"
     ]
    },
    {
     "name": "stderr",
     "output_type": "stream",
     "text": [
      "     42/100       4.6G       0.67     0.4522     0.9532        648        640: 100%|██████████| 2800/2800 [04:14<00:00, 10.99it/s]\n",
      "                 Class     Images  Instances      Box(P          R      mAP50  mAP50-95): 100%|██████████| 175/175 [00:21<00:00,  7.98it/s]\n"
     ]
    },
    {
     "name": "stdout",
     "output_type": "stream",
     "text": [
      "                   all       5600     110033      0.965      0.954      0.977       0.85\n",
      "\n",
      "      Epoch    GPU_mem   box_loss   cls_loss   dfl_loss  Instances       Size\n"
     ]
    },
    {
     "name": "stderr",
     "output_type": "stream",
     "text": [
      "     43/100      4.71G     0.6686     0.4501     0.9535        440        640: 100%|██████████| 2800/2800 [04:16<00:00, 10.93it/s]\n",
      "                 Class     Images  Instances      Box(P          R      mAP50  mAP50-95): 100%|██████████| 175/175 [00:22<00:00,  7.78it/s]\n"
     ]
    },
    {
     "name": "stdout",
     "output_type": "stream",
     "text": [
      "                   all       5600     110033      0.965      0.954      0.977       0.85\n",
      "\n",
      "      Epoch    GPU_mem   box_loss   cls_loss   dfl_loss  Instances       Size\n"
     ]
    },
    {
     "name": "stderr",
     "output_type": "stream",
     "text": [
      "     44/100      4.82G     0.6684       0.45     0.9532        444        640: 100%|██████████| 2800/2800 [04:17<00:00, 10.88it/s]\n",
      "                 Class     Images  Instances      Box(P          R      mAP50  mAP50-95): 100%|██████████| 175/175 [00:22<00:00,  7.91it/s]\n"
     ]
    },
    {
     "name": "stdout",
     "output_type": "stream",
     "text": [
      "                   all       5600     110033      0.965      0.954      0.977      0.851\n",
      "\n",
      "      Epoch    GPU_mem   box_loss   cls_loss   dfl_loss  Instances       Size\n"
     ]
    },
    {
     "name": "stderr",
     "output_type": "stream",
     "text": [
      "     45/100      4.13G      0.668     0.4495     0.9541        496        640: 100%|██████████| 2800/2800 [04:14<00:00, 11.02it/s]\n",
      "                 Class     Images  Instances      Box(P          R      mAP50  mAP50-95): 100%|██████████| 175/175 [00:21<00:00,  8.01it/s]\n"
     ]
    },
    {
     "name": "stdout",
     "output_type": "stream",
     "text": [
      "                   all       5600     110033      0.965      0.954      0.977      0.851\n",
      "\n",
      "      Epoch    GPU_mem   box_loss   cls_loss   dfl_loss  Instances       Size\n"
     ]
    },
    {
     "name": "stderr",
     "output_type": "stream",
     "text": [
      "     46/100      3.86G     0.6662     0.4481      0.952        434        640: 100%|██████████| 2800/2800 [04:15<00:00, 10.95it/s]\n",
      "                 Class     Images  Instances      Box(P          R      mAP50  mAP50-95): 100%|██████████| 175/175 [00:22<00:00,  7.90it/s]\n"
     ]
    },
    {
     "name": "stdout",
     "output_type": "stream",
     "text": [
      "                   all       5600     110033      0.966      0.954      0.978      0.851\n",
      "\n",
      "      Epoch    GPU_mem   box_loss   cls_loss   dfl_loss  Instances       Size\n"
     ]
    },
    {
     "name": "stderr",
     "output_type": "stream",
     "text": [
      "     47/100      4.78G     0.6649     0.4468     0.9519        426        640: 100%|██████████| 2800/2800 [04:14<00:00, 11.00it/s]\n",
      "                 Class     Images  Instances      Box(P          R      mAP50  mAP50-95): 100%|██████████| 175/175 [00:22<00:00,  7.91it/s]\n"
     ]
    },
    {
     "name": "stdout",
     "output_type": "stream",
     "text": [
      "                   all       5600     110033      0.965      0.954      0.978      0.851\n",
      "\n",
      "      Epoch    GPU_mem   box_loss   cls_loss   dfl_loss  Instances       Size\n"
     ]
    },
    {
     "name": "stderr",
     "output_type": "stream",
     "text": [
      "     48/100      4.51G     0.6644     0.4455     0.9517        353        640: 100%|██████████| 2800/2800 [04:16<00:00, 10.93it/s]\n",
      "                 Class     Images  Instances      Box(P          R      mAP50  mAP50-95): 100%|██████████| 175/175 [00:22<00:00,  7.84it/s]\n"
     ]
    },
    {
     "name": "stdout",
     "output_type": "stream",
     "text": [
      "                   all       5600     110033      0.965      0.955      0.978      0.851\n",
      "\n",
      "      Epoch    GPU_mem   box_loss   cls_loss   dfl_loss  Instances       Size\n"
     ]
    },
    {
     "name": "stderr",
     "output_type": "stream",
     "text": [
      "     49/100      4.57G     0.6651     0.4453     0.9511        526        640: 100%|██████████| 2800/2800 [04:14<00:00, 10.99it/s]\n",
      "                 Class     Images  Instances      Box(P          R      mAP50  mAP50-95): 100%|██████████| 175/175 [00:22<00:00,  7.87it/s]\n"
     ]
    },
    {
     "name": "stdout",
     "output_type": "stream",
     "text": [
      "                   all       5600     110033      0.966      0.955      0.978      0.852\n",
      "\n",
      "      Epoch    GPU_mem   box_loss   cls_loss   dfl_loss  Instances       Size\n"
     ]
    },
    {
     "name": "stderr",
     "output_type": "stream",
     "text": [
      "     50/100      4.85G     0.6638     0.4437      0.951        499        640: 100%|██████████| 2800/2800 [04:14<00:00, 10.99it/s]\n",
      "                 Class     Images  Instances      Box(P          R      mAP50  mAP50-95): 100%|██████████| 175/175 [00:22<00:00,  7.85it/s]\n"
     ]
    },
    {
     "name": "stdout",
     "output_type": "stream",
     "text": [
      "                   all       5600     110033      0.966      0.955      0.978      0.852\n",
      "\n",
      "      Epoch    GPU_mem   box_loss   cls_loss   dfl_loss  Instances       Size\n"
     ]
    },
    {
     "name": "stderr",
     "output_type": "stream",
     "text": [
      "     51/100      3.98G     0.6621     0.4419     0.9503        342        640: 100%|██████████| 2800/2800 [04:13<00:00, 11.03it/s]\n",
      "                 Class     Images  Instances      Box(P          R      mAP50  mAP50-95): 100%|██████████| 175/175 [00:22<00:00,  7.83it/s]\n"
     ]
    },
    {
     "name": "stdout",
     "output_type": "stream",
     "text": [
      "                   all       5600     110033      0.966      0.955      0.978      0.852\n",
      "\n",
      "      Epoch    GPU_mem   box_loss   cls_loss   dfl_loss  Instances       Size\n"
     ]
    },
    {
     "name": "stderr",
     "output_type": "stream",
     "text": [
      "     52/100      4.32G     0.6619     0.4424     0.9508        488        640: 100%|██████████| 2800/2800 [04:15<00:00, 10.98it/s]\n",
      "                 Class     Images  Instances      Box(P          R      mAP50  mAP50-95): 100%|██████████| 175/175 [00:22<00:00,  7.84it/s]\n"
     ]
    },
    {
     "name": "stdout",
     "output_type": "stream",
     "text": [
      "                   all       5600     110033      0.965      0.956      0.978      0.853\n",
      "\n",
      "      Epoch    GPU_mem   box_loss   cls_loss   dfl_loss  Instances       Size\n"
     ]
    },
    {
     "name": "stderr",
     "output_type": "stream",
     "text": [
      "     53/100      6.01G     0.6608     0.4409     0.9501        505        640: 100%|██████████| 2800/2800 [04:14<00:00, 11.02it/s]\n",
      "                 Class     Images  Instances      Box(P          R      mAP50  mAP50-95): 100%|██████████| 175/175 [00:22<00:00,  7.90it/s]\n"
     ]
    },
    {
     "name": "stdout",
     "output_type": "stream",
     "text": [
      "                   all       5600     110033      0.966      0.956      0.978      0.853\n",
      "\n",
      "      Epoch    GPU_mem   box_loss   cls_loss   dfl_loss  Instances       Size\n"
     ]
    },
    {
     "name": "stderr",
     "output_type": "stream",
     "text": [
      "     54/100      4.08G     0.6596       0.44     0.9496        555        640: 100%|██████████| 2800/2800 [04:14<00:00, 11.00it/s]\n",
      "                 Class     Images  Instances      Box(P          R      mAP50  mAP50-95): 100%|██████████| 175/175 [00:22<00:00,  7.94it/s]\n"
     ]
    },
    {
     "name": "stdout",
     "output_type": "stream",
     "text": [
      "                   all       5600     110033      0.966      0.955      0.978      0.853\n",
      "\n",
      "      Epoch    GPU_mem   box_loss   cls_loss   dfl_loss  Instances       Size\n"
     ]
    },
    {
     "name": "stderr",
     "output_type": "stream",
     "text": [
      "     55/100      5.04G     0.6583     0.4382     0.9493        376        640: 100%|██████████| 2800/2800 [04:14<00:00, 11.00it/s]\n",
      "                 Class     Images  Instances      Box(P          R      mAP50  mAP50-95): 100%|██████████| 175/175 [00:22<00:00,  7.87it/s]\n"
     ]
    },
    {
     "name": "stdout",
     "output_type": "stream",
     "text": [
      "                   all       5600     110033      0.966      0.955      0.978      0.853\n",
      "\n",
      "      Epoch    GPU_mem   box_loss   cls_loss   dfl_loss  Instances       Size\n"
     ]
    },
    {
     "name": "stderr",
     "output_type": "stream",
     "text": [
      "     56/100      4.45G     0.6574     0.4369     0.9487        466        640: 100%|██████████| 2800/2800 [04:13<00:00, 11.06it/s]\n",
      "                 Class     Images  Instances      Box(P          R      mAP50  mAP50-95): 100%|██████████| 175/175 [00:22<00:00,  7.93it/s]\n"
     ]
    },
    {
     "name": "stdout",
     "output_type": "stream",
     "text": [
      "                   all       5600     110033      0.966      0.955      0.978      0.854\n",
      "\n",
      "      Epoch    GPU_mem   box_loss   cls_loss   dfl_loss  Instances       Size\n"
     ]
    },
    {
     "name": "stderr",
     "output_type": "stream",
     "text": [
      "     57/100      4.36G     0.6567     0.4359     0.9488        472        640: 100%|██████████| 2800/2800 [04:14<00:00, 10.98it/s]\n",
      "                 Class     Images  Instances      Box(P          R      mAP50  mAP50-95): 100%|██████████| 175/175 [00:21<00:00,  7.97it/s]\n"
     ]
    },
    {
     "name": "stdout",
     "output_type": "stream",
     "text": [
      "                   all       5600     110033      0.967      0.955      0.978      0.854\n",
      "\n",
      "      Epoch    GPU_mem   box_loss   cls_loss   dfl_loss  Instances       Size\n"
     ]
    },
    {
     "name": "stderr",
     "output_type": "stream",
     "text": [
      "     58/100      5.32G     0.6558     0.4349      0.948        421        640: 100%|██████████| 2800/2800 [04:16<00:00, 10.94it/s]\n",
      "                 Class     Images  Instances      Box(P          R      mAP50  mAP50-95): 100%|██████████| 175/175 [00:22<00:00,  7.94it/s]\n"
     ]
    },
    {
     "name": "stdout",
     "output_type": "stream",
     "text": [
      "                   all       5600     110033      0.967      0.955      0.979      0.854\n",
      "\n",
      "      Epoch    GPU_mem   box_loss   cls_loss   dfl_loss  Instances       Size\n"
     ]
    },
    {
     "name": "stderr",
     "output_type": "stream",
     "text": [
      "     59/100      5.78G     0.6557     0.4358     0.9493        538        640: 100%|██████████| 2800/2800 [04:15<00:00, 10.95it/s]\n",
      "                 Class     Images  Instances      Box(P          R      mAP50  mAP50-95): 100%|██████████| 175/175 [00:22<00:00,  7.84it/s]\n"
     ]
    },
    {
     "name": "stdout",
     "output_type": "stream",
     "text": [
      "                   all       5600     110033      0.967      0.955      0.979      0.854\n",
      "\n",
      "      Epoch    GPU_mem   box_loss   cls_loss   dfl_loss  Instances       Size\n"
     ]
    },
    {
     "name": "stderr",
     "output_type": "stream",
     "text": [
      "     60/100      4.87G     0.6539     0.4334     0.9475        405        640: 100%|██████████| 2800/2800 [04:15<00:00, 10.94it/s]\n",
      "                 Class     Images  Instances      Box(P          R      mAP50  mAP50-95): 100%|██████████| 175/175 [00:22<00:00,  7.83it/s]\n"
     ]
    },
    {
     "name": "stdout",
     "output_type": "stream",
     "text": [
      "                   all       5600     110033      0.967      0.955      0.979      0.855\n",
      "\n",
      "      Epoch    GPU_mem   box_loss   cls_loss   dfl_loss  Instances       Size\n"
     ]
    },
    {
     "name": "stderr",
     "output_type": "stream",
     "text": [
      "     61/100      4.24G     0.6532     0.4323     0.9479        403        640: 100%|██████████| 2800/2800 [04:15<00:00, 10.95it/s]\n",
      "                 Class     Images  Instances      Box(P          R      mAP50  mAP50-95): 100%|██████████| 175/175 [00:21<00:00,  7.97it/s]\n"
     ]
    },
    {
     "name": "stdout",
     "output_type": "stream",
     "text": [
      "                   all       5600     110033      0.967      0.956      0.979      0.855\n",
      "\n",
      "      Epoch    GPU_mem   box_loss   cls_loss   dfl_loss  Instances       Size\n"
     ]
    },
    {
     "name": "stderr",
     "output_type": "stream",
     "text": [
      "     62/100      4.92G     0.6535     0.4313     0.9472        649        640: 100%|██████████| 2800/2800 [04:14<00:00, 10.98it/s]\n",
      "                 Class     Images  Instances      Box(P          R      mAP50  mAP50-95): 100%|██████████| 175/175 [00:22<00:00,  7.92it/s]\n"
     ]
    },
    {
     "name": "stdout",
     "output_type": "stream",
     "text": [
      "                   all       5600     110033      0.967      0.956      0.979      0.855\n",
      "\n",
      "      Epoch    GPU_mem   box_loss   cls_loss   dfl_loss  Instances       Size\n"
     ]
    },
    {
     "name": "stderr",
     "output_type": "stream",
     "text": [
      "     63/100      4.37G     0.6511     0.4297     0.9474        485        640: 100%|██████████| 2800/2800 [04:15<00:00, 10.97it/s]\n",
      "                 Class     Images  Instances      Box(P          R      mAP50  mAP50-95): 100%|██████████| 175/175 [00:21<00:00,  7.96it/s]\n"
     ]
    },
    {
     "name": "stdout",
     "output_type": "stream",
     "text": [
      "                   all       5600     110033      0.967      0.956      0.979      0.855\n",
      "\n",
      "      Epoch    GPU_mem   box_loss   cls_loss   dfl_loss  Instances       Size\n"
     ]
    },
    {
     "name": "stderr",
     "output_type": "stream",
     "text": [
      "     64/100      4.29G     0.6505     0.4297      0.946        436        640: 100%|██████████| 2800/2800 [04:15<00:00, 10.94it/s]\n",
      "                 Class     Images  Instances      Box(P          R      mAP50  mAP50-95): 100%|██████████| 175/175 [00:22<00:00,  7.90it/s]\n"
     ]
    },
    {
     "name": "stdout",
     "output_type": "stream",
     "text": [
      "                   all       5600     110033      0.967      0.956      0.979      0.855\n",
      "\n",
      "      Epoch    GPU_mem   box_loss   cls_loss   dfl_loss  Instances       Size\n"
     ]
    },
    {
     "name": "stderr",
     "output_type": "stream",
     "text": [
      "     65/100      4.47G     0.6496     0.4282     0.9461        422        640: 100%|██████████| 2800/2800 [04:14<00:00, 10.99it/s]\n",
      "                 Class     Images  Instances      Box(P          R      mAP50  mAP50-95): 100%|██████████| 175/175 [00:22<00:00,  7.86it/s]\n"
     ]
    },
    {
     "name": "stdout",
     "output_type": "stream",
     "text": [
      "                   all       5600     110033      0.967      0.956      0.979      0.856\n",
      "\n",
      "      Epoch    GPU_mem   box_loss   cls_loss   dfl_loss  Instances       Size\n"
     ]
    },
    {
     "name": "stderr",
     "output_type": "stream",
     "text": [
      "     66/100      4.72G     0.6489     0.4275     0.9459        441        640: 100%|██████████| 2800/2800 [04:15<00:00, 10.97it/s]\n",
      "                 Class     Images  Instances      Box(P          R      mAP50  mAP50-95): 100%|██████████| 175/175 [00:22<00:00,  7.94it/s]\n"
     ]
    },
    {
     "name": "stdout",
     "output_type": "stream",
     "text": [
      "                   all       5600     110033      0.967      0.956      0.979      0.856\n",
      "\n",
      "      Epoch    GPU_mem   box_loss   cls_loss   dfl_loss  Instances       Size\n"
     ]
    },
    {
     "name": "stderr",
     "output_type": "stream",
     "text": [
      "     67/100      4.61G     0.6487     0.4271      0.946        597        640: 100%|██████████| 2800/2800 [04:13<00:00, 11.04it/s]\n",
      "                 Class     Images  Instances      Box(P          R      mAP50  mAP50-95): 100%|██████████| 175/175 [00:22<00:00,  7.92it/s]\n"
     ]
    },
    {
     "name": "stdout",
     "output_type": "stream",
     "text": [
      "                   all       5600     110033      0.967      0.956      0.979      0.856\n",
      "\n",
      "      Epoch    GPU_mem   box_loss   cls_loss   dfl_loss  Instances       Size\n"
     ]
    },
    {
     "name": "stderr",
     "output_type": "stream",
     "text": [
      "     68/100      4.26G     0.6466     0.4245     0.9447        401        640: 100%|██████████| 2800/2800 [04:15<00:00, 10.96it/s]\n",
      "                 Class     Images  Instances      Box(P          R      mAP50  mAP50-95): 100%|██████████| 175/175 [00:22<00:00,  7.95it/s]\n"
     ]
    },
    {
     "name": "stdout",
     "output_type": "stream",
     "text": [
      "                   all       5600     110033      0.967      0.957      0.979      0.856\n",
      "\n",
      "      Epoch    GPU_mem   box_loss   cls_loss   dfl_loss  Instances       Size\n"
     ]
    },
    {
     "name": "stderr",
     "output_type": "stream",
     "text": [
      "     69/100      4.08G     0.6457     0.4241     0.9447        404        640: 100%|██████████| 2800/2800 [04:14<00:00, 10.98it/s]\n",
      "                 Class     Images  Instances      Box(P          R      mAP50  mAP50-95): 100%|██████████| 175/175 [00:22<00:00,  7.91it/s]\n"
     ]
    },
    {
     "name": "stdout",
     "output_type": "stream",
     "text": [
      "                   all       5600     110033      0.968      0.956      0.979      0.856\n",
      "\n",
      "      Epoch    GPU_mem   box_loss   cls_loss   dfl_loss  Instances       Size\n"
     ]
    },
    {
     "name": "stderr",
     "output_type": "stream",
     "text": [
      "     70/100      4.57G     0.6433     0.4218      0.944        444        640: 100%|██████████| 2800/2800 [04:15<00:00, 10.98it/s]\n",
      "                 Class     Images  Instances      Box(P          R      mAP50  mAP50-95): 100%|██████████| 175/175 [00:22<00:00,  7.86it/s]\n"
     ]
    },
    {
     "name": "stdout",
     "output_type": "stream",
     "text": [
      "                   all       5600     110033      0.968      0.957      0.979      0.856\n",
      "\n",
      "      Epoch    GPU_mem   box_loss   cls_loss   dfl_loss  Instances       Size\n"
     ]
    },
    {
     "name": "stderr",
     "output_type": "stream",
     "text": [
      "     71/100      4.36G     0.6429     0.4206     0.9429        489        640: 100%|██████████| 2800/2800 [04:15<00:00, 10.96it/s]\n",
      "                 Class     Images  Instances      Box(P          R      mAP50  mAP50-95): 100%|██████████| 175/175 [00:22<00:00,  7.78it/s]\n"
     ]
    },
    {
     "name": "stdout",
     "output_type": "stream",
     "text": [
      "                   all       5600     110033      0.968      0.957      0.979      0.857\n",
      "\n",
      "      Epoch    GPU_mem   box_loss   cls_loss   dfl_loss  Instances       Size\n"
     ]
    },
    {
     "name": "stderr",
     "output_type": "stream",
     "text": [
      "     72/100      3.81G     0.6411     0.4189     0.9424        388        640: 100%|██████████| 2800/2800 [04:15<00:00, 10.96it/s]\n",
      "                 Class     Images  Instances      Box(P          R      mAP50  mAP50-95): 100%|██████████| 175/175 [00:22<00:00,  7.92it/s]\n"
     ]
    },
    {
     "name": "stdout",
     "output_type": "stream",
     "text": [
      "                   all       5600     110033      0.967      0.957      0.979      0.857\n",
      "\n",
      "      Epoch    GPU_mem   box_loss   cls_loss   dfl_loss  Instances       Size\n"
     ]
    },
    {
     "name": "stderr",
     "output_type": "stream",
     "text": [
      "     73/100      5.06G     0.6396     0.4171     0.9419        507        640: 100%|██████████| 2800/2800 [04:15<00:00, 10.94it/s]\n",
      "                 Class     Images  Instances      Box(P          R      mAP50  mAP50-95): 100%|██████████| 175/175 [00:21<00:00,  8.00it/s]\n"
     ]
    },
    {
     "name": "stdout",
     "output_type": "stream",
     "text": [
      "                   all       5600     110033      0.968      0.957       0.98      0.857\n",
      "\n",
      "      Epoch    GPU_mem   box_loss   cls_loss   dfl_loss  Instances       Size\n"
     ]
    },
    {
     "name": "stderr",
     "output_type": "stream",
     "text": [
      "     74/100      4.75G     0.6402     0.4174     0.9428        534        640: 100%|██████████| 2800/2800 [04:15<00:00, 10.96it/s]\n",
      "                 Class     Images  Instances      Box(P          R      mAP50  mAP50-95): 100%|██████████| 175/175 [00:22<00:00,  7.85it/s]\n"
     ]
    },
    {
     "name": "stdout",
     "output_type": "stream",
     "text": [
      "                   all       5600     110033      0.968      0.957       0.98      0.857\n",
      "\n",
      "      Epoch    GPU_mem   box_loss   cls_loss   dfl_loss  Instances       Size\n"
     ]
    },
    {
     "name": "stderr",
     "output_type": "stream",
     "text": [
      "     75/100      4.39G     0.6381     0.4167     0.9418        448        640: 100%|██████████| 2800/2800 [04:15<00:00, 10.97it/s]\n",
      "                 Class     Images  Instances      Box(P          R      mAP50  mAP50-95): 100%|██████████| 175/175 [00:22<00:00,  7.85it/s]\n"
     ]
    },
    {
     "name": "stdout",
     "output_type": "stream",
     "text": [
      "                   all       5600     110033      0.968      0.958       0.98      0.858\n",
      "\n",
      "      Epoch    GPU_mem   box_loss   cls_loss   dfl_loss  Instances       Size\n"
     ]
    },
    {
     "name": "stderr",
     "output_type": "stream",
     "text": [
      "     76/100      4.75G     0.6374     0.4149     0.9419        286        640: 100%|██████████| 2800/2800 [04:16<00:00, 10.92it/s]\n",
      "                 Class     Images  Instances      Box(P          R      mAP50  mAP50-95): 100%|██████████| 175/175 [00:22<00:00,  7.86it/s]\n"
     ]
    },
    {
     "name": "stdout",
     "output_type": "stream",
     "text": [
      "                   all       5600     110033      0.968      0.957       0.98      0.858\n",
      "\n",
      "      Epoch    GPU_mem   box_loss   cls_loss   dfl_loss  Instances       Size\n"
     ]
    },
    {
     "name": "stderr",
     "output_type": "stream",
     "text": [
      "     77/100      4.95G     0.6367     0.4136     0.9415        518        640: 100%|██████████| 2800/2800 [04:16<00:00, 10.93it/s]\n",
      "                 Class     Images  Instances      Box(P          R      mAP50  mAP50-95): 100%|██████████| 175/175 [00:22<00:00,  7.94it/s]\n"
     ]
    },
    {
     "name": "stdout",
     "output_type": "stream",
     "text": [
      "                   all       5600     110033      0.968      0.957       0.98      0.858\n",
      "\n",
      "      Epoch    GPU_mem   box_loss   cls_loss   dfl_loss  Instances       Size\n"
     ]
    },
    {
     "name": "stderr",
     "output_type": "stream",
     "text": [
      "     78/100      4.21G     0.6362     0.4126     0.9406        418        640: 100%|██████████| 2800/2800 [04:15<00:00, 10.97it/s]\n",
      "                 Class     Images  Instances      Box(P          R      mAP50  mAP50-95): 100%|██████████| 175/175 [00:22<00:00,  7.94it/s]\n"
     ]
    },
    {
     "name": "stdout",
     "output_type": "stream",
     "text": [
      "                   all       5600     110033      0.968      0.958       0.98      0.858\n",
      "\n",
      "      Epoch    GPU_mem   box_loss   cls_loss   dfl_loss  Instances       Size\n"
     ]
    },
    {
     "name": "stderr",
     "output_type": "stream",
     "text": [
      "     79/100      4.77G     0.6347     0.4114     0.9397        567        640: 100%|██████████| 2800/2800 [04:13<00:00, 11.04it/s]\n",
      "                 Class     Images  Instances      Box(P          R      mAP50  mAP50-95): 100%|██████████| 175/175 [00:21<00:00,  7.96it/s]\n"
     ]
    },
    {
     "name": "stdout",
     "output_type": "stream",
     "text": [
      "                   all       5600     110033      0.968      0.958       0.98      0.858\n",
      "\n",
      "      Epoch    GPU_mem   box_loss   cls_loss   dfl_loss  Instances       Size\n"
     ]
    },
    {
     "name": "stderr",
     "output_type": "stream",
     "text": [
      "     80/100      4.21G     0.6335     0.4107     0.9398        404        640: 100%|██████████| 2800/2800 [04:14<00:00, 11.00it/s]\n",
      "                 Class     Images  Instances      Box(P          R      mAP50  mAP50-95): 100%|██████████| 175/175 [00:22<00:00,  7.90it/s]\n"
     ]
    },
    {
     "name": "stdout",
     "output_type": "stream",
     "text": [
      "                   all       5600     110033      0.968      0.958       0.98      0.858\n",
      "\n",
      "      Epoch    GPU_mem   box_loss   cls_loss   dfl_loss  Instances       Size\n"
     ]
    },
    {
     "name": "stderr",
     "output_type": "stream",
     "text": [
      "     81/100      4.25G     0.6305     0.4082     0.9391        467        640: 100%|██████████| 2800/2800 [04:13<00:00, 11.04it/s]\n",
      "                 Class     Images  Instances      Box(P          R      mAP50  mAP50-95): 100%|██████████| 175/175 [00:22<00:00,  7.94it/s]\n"
     ]
    },
    {
     "name": "stdout",
     "output_type": "stream",
     "text": [
      "                   all       5600     110033      0.968      0.958       0.98      0.859\n",
      "\n",
      "      Epoch    GPU_mem   box_loss   cls_loss   dfl_loss  Instances       Size\n"
     ]
    },
    {
     "name": "stderr",
     "output_type": "stream",
     "text": [
      "     82/100      4.32G     0.6298     0.4072     0.9384        445        640: 100%|██████████| 2800/2800 [04:14<00:00, 11.01it/s]\n",
      "                 Class     Images  Instances      Box(P          R      mAP50  mAP50-95): 100%|██████████| 175/175 [00:22<00:00,  7.83it/s]\n"
     ]
    },
    {
     "name": "stdout",
     "output_type": "stream",
     "text": [
      "                   all       5600     110033      0.968      0.958       0.98      0.859\n",
      "\n",
      "      Epoch    GPU_mem   box_loss   cls_loss   dfl_loss  Instances       Size\n"
     ]
    },
    {
     "name": "stderr",
     "output_type": "stream",
     "text": [
      "     83/100      3.93G      0.629     0.4058     0.9379        277        640: 100%|██████████| 2800/2800 [04:15<00:00, 10.96it/s]\n",
      "                 Class     Images  Instances      Box(P          R      mAP50  mAP50-95): 100%|██████████| 175/175 [00:22<00:00,  7.89it/s]\n"
     ]
    },
    {
     "name": "stdout",
     "output_type": "stream",
     "text": [
      "                   all       5600     110033      0.969      0.958       0.98      0.859\n",
      "\n",
      "      Epoch    GPU_mem   box_loss   cls_loss   dfl_loss  Instances       Size\n"
     ]
    },
    {
     "name": "stderr",
     "output_type": "stream",
     "text": [
      "     84/100      4.85G     0.6278     0.4045     0.9373        394        640: 100%|██████████| 2800/2800 [04:15<00:00, 10.97it/s]\n",
      "                 Class     Images  Instances      Box(P          R      mAP50  mAP50-95): 100%|██████████| 175/175 [00:22<00:00,  7.94it/s]\n"
     ]
    },
    {
     "name": "stdout",
     "output_type": "stream",
     "text": [
      "                   all       5600     110033      0.968      0.959       0.98      0.859\n",
      "\n",
      "      Epoch    GPU_mem   box_loss   cls_loss   dfl_loss  Instances       Size\n"
     ]
    },
    {
     "name": "stderr",
     "output_type": "stream",
     "text": [
      "     85/100      3.59G     0.6272     0.4041     0.9371        552        640: 100%|██████████| 2800/2800 [04:16<00:00, 10.91it/s]\n",
      "                 Class     Images  Instances      Box(P          R      mAP50  mAP50-95): 100%|██████████| 175/175 [00:22<00:00,  7.84it/s]\n"
     ]
    },
    {
     "name": "stdout",
     "output_type": "stream",
     "text": [
      "                   all       5600     110033      0.969      0.958       0.98      0.859\n",
      "\n",
      "      Epoch    GPU_mem   box_loss   cls_loss   dfl_loss  Instances       Size\n"
     ]
    },
    {
     "name": "stderr",
     "output_type": "stream",
     "text": [
      "     86/100      4.86G     0.6262     0.4022     0.9371        263        640: 100%|██████████| 2800/2800 [04:14<00:00, 11.00it/s]\n",
      "                 Class     Images  Instances      Box(P          R      mAP50  mAP50-95): 100%|██████████| 175/175 [00:22<00:00,  7.88it/s]\n"
     ]
    },
    {
     "name": "stdout",
     "output_type": "stream",
     "text": [
      "                   all       5600     110033      0.969      0.958       0.98       0.86\n",
      "\n",
      "      Epoch    GPU_mem   box_loss   cls_loss   dfl_loss  Instances       Size\n"
     ]
    },
    {
     "name": "stderr",
     "output_type": "stream",
     "text": [
      "     87/100      5.36G     0.6239     0.4009     0.9368        417        640: 100%|██████████| 2800/2800 [04:14<00:00, 10.98it/s]\n",
      "                 Class     Images  Instances      Box(P          R      mAP50  mAP50-95): 100%|██████████| 175/175 [00:22<00:00,  7.91it/s]\n"
     ]
    },
    {
     "name": "stdout",
     "output_type": "stream",
     "text": [
      "                   all       5600     110033      0.969      0.958      0.981       0.86\n",
      "\n",
      "      Epoch    GPU_mem   box_loss   cls_loss   dfl_loss  Instances       Size\n"
     ]
    },
    {
     "name": "stderr",
     "output_type": "stream",
     "text": [
      "     88/100       5.1G     0.6229     0.3992     0.9355        586        640: 100%|██████████| 2800/2800 [04:15<00:00, 10.95it/s]\n",
      "                 Class     Images  Instances      Box(P          R      mAP50  mAP50-95): 100%|██████████| 175/175 [00:22<00:00,  7.94it/s]\n"
     ]
    },
    {
     "name": "stdout",
     "output_type": "stream",
     "text": [
      "                   all       5600     110033      0.969      0.958      0.981       0.86\n",
      "\n",
      "      Epoch    GPU_mem   box_loss   cls_loss   dfl_loss  Instances       Size\n"
     ]
    },
    {
     "name": "stderr",
     "output_type": "stream",
     "text": [
      "     89/100       5.2G      0.621     0.3968     0.9343        508        640: 100%|██████████| 2800/2800 [04:15<00:00, 10.94it/s]\n",
      "                 Class     Images  Instances      Box(P          R      mAP50  mAP50-95): 100%|██████████| 175/175 [00:22<00:00,  7.92it/s]\n"
     ]
    },
    {
     "name": "stdout",
     "output_type": "stream",
     "text": [
      "                   all       5600     110033       0.97      0.958      0.981       0.86\n",
      "\n",
      "      Epoch    GPU_mem   box_loss   cls_loss   dfl_loss  Instances       Size\n"
     ]
    },
    {
     "name": "stderr",
     "output_type": "stream",
     "text": [
      "     90/100      4.29G     0.6195     0.3959     0.9343        459        640: 100%|██████████| 2800/2800 [04:14<00:00, 11.00it/s]\n",
      "                 Class     Images  Instances      Box(P          R      mAP50  mAP50-95): 100%|██████████| 175/175 [00:22<00:00,  7.88it/s]\n"
     ]
    },
    {
     "name": "stdout",
     "output_type": "stream",
     "text": [
      "                   all       5600     110033      0.971      0.957      0.981       0.86\n",
      "Closing dataloader mosaic\n",
      "\n",
      "      Epoch    GPU_mem   box_loss   cls_loss   dfl_loss  Instances       Size\n"
     ]
    },
    {
     "name": "stderr",
     "output_type": "stream",
     "text": [
      "     91/100      3.67G     0.5682     0.3357     0.8956        293        640: 100%|██████████| 2800/2800 [04:02<00:00, 11.53it/s]\n",
      "                 Class     Images  Instances      Box(P          R      mAP50  mAP50-95): 100%|██████████| 175/175 [00:22<00:00,  7.80it/s]\n"
     ]
    },
    {
     "name": "stdout",
     "output_type": "stream",
     "text": [
      "                   all       5600     110033       0.97      0.958      0.981       0.86\n",
      "\n",
      "      Epoch    GPU_mem   box_loss   cls_loss   dfl_loss  Instances       Size\n"
     ]
    },
    {
     "name": "stderr",
     "output_type": "stream",
     "text": [
      "     92/100      3.75G     0.5643     0.3316     0.8941        327        640: 100%|██████████| 2800/2800 [04:03<00:00, 11.51it/s]\n",
      "                 Class     Images  Instances      Box(P          R      mAP50  mAP50-95): 100%|██████████| 175/175 [00:22<00:00,  7.89it/s]\n"
     ]
    },
    {
     "name": "stdout",
     "output_type": "stream",
     "text": [
      "                   all       5600     110033       0.97      0.958      0.981      0.861\n",
      "\n",
      "      Epoch    GPU_mem   box_loss   cls_loss   dfl_loss  Instances       Size\n"
     ]
    },
    {
     "name": "stderr",
     "output_type": "stream",
     "text": [
      "     93/100      3.56G     0.5621     0.3288      0.893        357        640: 100%|██████████| 2800/2800 [04:01<00:00, 11.58it/s]\n",
      "                 Class     Images  Instances      Box(P          R      mAP50  mAP50-95): 100%|██████████| 175/175 [00:22<00:00,  7.89it/s]\n"
     ]
    },
    {
     "name": "stdout",
     "output_type": "stream",
     "text": [
      "                   all       5600     110033       0.97      0.958      0.981      0.861\n",
      "\n",
      "      Epoch    GPU_mem   box_loss   cls_loss   dfl_loss  Instances       Size\n"
     ]
    },
    {
     "name": "stderr",
     "output_type": "stream",
     "text": [
      "     94/100      3.42G     0.5598     0.3267     0.8919        293        640: 100%|██████████| 2800/2800 [04:02<00:00, 11.55it/s]\n",
      "                 Class     Images  Instances      Box(P          R      mAP50  mAP50-95): 100%|██████████| 175/175 [00:22<00:00,  7.89it/s]\n"
     ]
    },
    {
     "name": "stdout",
     "output_type": "stream",
     "text": [
      "                   all       5600     110033      0.971      0.958      0.981      0.861\n",
      "\n",
      "      Epoch    GPU_mem   box_loss   cls_loss   dfl_loss  Instances       Size\n"
     ]
    },
    {
     "name": "stderr",
     "output_type": "stream",
     "text": [
      "     95/100      4.34G     0.5583     0.3251     0.8912        320        640: 100%|██████████| 2800/2800 [04:02<00:00, 11.52it/s]\n",
      "                 Class     Images  Instances      Box(P          R      mAP50  mAP50-95): 100%|██████████| 175/175 [00:22<00:00,  7.76it/s]\n"
     ]
    },
    {
     "name": "stdout",
     "output_type": "stream",
     "text": [
      "                   all       5600     110033      0.971      0.958      0.981      0.861\n",
      "\n",
      "      Epoch    GPU_mem   box_loss   cls_loss   dfl_loss  Instances       Size\n"
     ]
    },
    {
     "name": "stderr",
     "output_type": "stream",
     "text": [
      "     96/100      3.84G     0.5565     0.3227     0.8902        368        640: 100%|██████████| 2800/2800 [04:02<00:00, 11.55it/s]\n",
      "                 Class     Images  Instances      Box(P          R      mAP50  mAP50-95): 100%|██████████| 175/175 [00:22<00:00,  7.81it/s]\n"
     ]
    },
    {
     "name": "stdout",
     "output_type": "stream",
     "text": [
      "                   all       5600     110033      0.972      0.958      0.981      0.862\n",
      "\n",
      "      Epoch    GPU_mem   box_loss   cls_loss   dfl_loss  Instances       Size\n"
     ]
    },
    {
     "name": "stderr",
     "output_type": "stream",
     "text": [
      "     97/100      3.75G     0.5543      0.321     0.8894        267        640: 100%|██████████| 2800/2800 [04:02<00:00, 11.55it/s]\n",
      "                 Class     Images  Instances      Box(P          R      mAP50  mAP50-95): 100%|██████████| 175/175 [00:22<00:00,  7.88it/s]\n"
     ]
    },
    {
     "name": "stdout",
     "output_type": "stream",
     "text": [
      "                   all       5600     110033      0.972      0.958      0.981      0.862\n",
      "\n",
      "      Epoch    GPU_mem   box_loss   cls_loss   dfl_loss  Instances       Size\n"
     ]
    },
    {
     "name": "stderr",
     "output_type": "stream",
     "text": [
      "     98/100       3.7G     0.5524     0.3187     0.8883        298        640: 100%|██████████| 2800/2800 [04:02<00:00, 11.57it/s]\n",
      "                 Class     Images  Instances      Box(P          R      mAP50  mAP50-95): 100%|██████████| 175/175 [00:22<00:00,  7.77it/s]\n"
     ]
    },
    {
     "name": "stdout",
     "output_type": "stream",
     "text": [
      "                   all       5600     110033      0.972      0.959      0.981      0.862\n",
      "\n",
      "      Epoch    GPU_mem   box_loss   cls_loss   dfl_loss  Instances       Size\n"
     ]
    },
    {
     "name": "stderr",
     "output_type": "stream",
     "text": [
      "     99/100      3.28G     0.5507     0.3173      0.888        308        640: 100%|██████████| 2800/2800 [04:01<00:00, 11.58it/s]\n",
      "                 Class     Images  Instances      Box(P          R      mAP50  mAP50-95): 100%|██████████| 175/175 [00:22<00:00,  7.87it/s]\n"
     ]
    },
    {
     "name": "stdout",
     "output_type": "stream",
     "text": [
      "                   all       5600     110033      0.972      0.959      0.981      0.862\n",
      "\n",
      "      Epoch    GPU_mem   box_loss   cls_loss   dfl_loss  Instances       Size\n"
     ]
    },
    {
     "name": "stderr",
     "output_type": "stream",
     "text": [
      "    100/100      3.78G      0.549      0.315     0.8875        299        640: 100%|██████████| 2800/2800 [04:02<00:00, 11.55it/s]\n",
      "                 Class     Images  Instances      Box(P          R      mAP50  mAP50-95): 100%|██████████| 175/175 [00:22<00:00,  7.90it/s]\n"
     ]
    },
    {
     "name": "stdout",
     "output_type": "stream",
     "text": [
      "                   all       5600     110033      0.972      0.959      0.981      0.863\n",
      "\n",
      "100 epochs completed in 7.708 hours.\n",
      "Optimizer stripped from runs\\detect\\train5\\weights\\last.pt, 5.5MB\n",
      "Optimizer stripped from runs\\detect\\train5\\weights\\best.pt, 5.5MB\n",
      "\n",
      "Validating runs\\detect\\train5\\weights\\best.pt...\n",
      "Ultralytics 8.3.32  Python-3.11.9 torch-2.5.1+cu124 CUDA:0 (NVIDIA GeForce RTX 4070, 12282MiB)\n",
      "YOLO11n summary (fused): 238 layers, 2,589,172 parameters, 0 gradients, 6.4 GFLOPs\n"
     ]
    },
    {
     "name": "stderr",
     "output_type": "stream",
     "text": [
      "                 Class     Images  Instances      Box(P          R      mAP50  mAP50-95): 100%|██████████| 175/175 [00:40<00:00,  4.34it/s]\n"
     ]
    },
    {
     "name": "stdout",
     "output_type": "stream",
     "text": [
      "                   all       5600     110033      0.972      0.959      0.982      0.862\n",
      "                          1400       1401      0.997      0.998      0.995      0.982\n",
      "                           1400       1417      0.991      0.989      0.995      0.962\n",
      "                           1400       1420      0.992      0.989      0.995      0.969\n",
      "                            1400       1425      0.986      0.984      0.994      0.923\n",
      "                           1400       2434       0.98      0.968       0.99      0.892\n",
      "                           1400       1405      0.969      0.979      0.991      0.914\n",
      "                           1400       1406      0.959      0.963      0.988      0.888\n",
      "                          1400       2044      0.933      0.939      0.971      0.881\n",
      "                            1400       1651      0.909      0.935      0.962       0.88\n",
      "                           1400       1695      0.986      0.983      0.993      0.951\n",
      "                            2800       5743       0.97      0.956      0.985      0.879\n",
      "                           1400       5811      0.927      0.886      0.942      0.734\n",
      "                           1400       1404      0.988      0.991      0.994      0.942\n",
      "                         1400       1400      0.992          1      0.995      0.975\n",
      "                           1400       1400      0.989      0.986      0.994      0.799\n",
      "                           1400       1490      0.974      0.973      0.992      0.971\n",
      "                           1400       2143       0.93      0.881      0.953      0.756\n",
      "                           1400       1416      0.975       0.98      0.993      0.865\n",
      "                          1400       4050      0.909      0.863      0.933      0.724\n",
      "                           1400       4824      0.934       0.87      0.947      0.763\n",
      "                         2800       2801          1          1      0.995      0.991\n",
      "                           2800       2800      0.999          1      0.995      0.977\n",
      "                           2800       2800      0.999      0.999      0.995      0.956\n",
      "                            2800       5600       0.96      0.916      0.962       0.73\n",
      "                            2800       2800      0.962      0.827      0.929       0.63\n",
      "                            2800       2800      0.976      0.953      0.986      0.792\n",
      "                            2800       5568      0.978      0.969      0.991      0.752\n",
      "                         2800       2800       0.99      0.994      0.992      0.935\n",
      "                            2800       2800      0.987      0.973      0.993      0.705\n",
      "                           2800       2800      0.988       0.99      0.995      0.947\n",
      "                            2800       5599      0.993      0.996      0.995      0.913\n",
      "                            2800       5582      0.987      0.983      0.993      0.824\n",
      "                           2800       5597      0.969       0.98      0.991      0.927\n",
      "                            2800       5600      0.983      0.988      0.993      0.833\n",
      "                           2800       2919      0.957      0.894      0.945      0.743\n",
      "                          2800       5188      0.973      0.951      0.982      0.744\n"
     ]
    },
    {
     "name": "stderr",
     "output_type": "stream",
     "text": [
      "c:\\Users\\User\\HTP_Test\\venv\\Lib\\site-packages\\ultralytics\\utils\\metrics.py:432: UserWarning: Glyph 51665 (\\N{HANGUL SYLLABLE JIB}) missing from font(s) Arial.\n",
      "  fig.savefig(plot_fname, dpi=250)\n",
      "c:\\Users\\User\\HTP_Test\\venv\\Lib\\site-packages\\ultralytics\\utils\\metrics.py:432: UserWarning: Glyph 51204 (\\N{HANGUL SYLLABLE JEON}) missing from font(s) Arial.\n",
      "  fig.savefig(plot_fname, dpi=250)\n",
      "c:\\Users\\User\\HTP_Test\\venv\\Lib\\site-packages\\ultralytics\\utils\\metrics.py:432: UserWarning: Glyph 52404 (\\N{HANGUL SYLLABLE CE}) missing from font(s) Arial.\n",
      "  fig.savefig(plot_fname, dpi=250)\n",
      "c:\\Users\\User\\HTP_Test\\venv\\Lib\\site-packages\\ultralytics\\utils\\metrics.py:432: UserWarning: Glyph 51648 (\\N{HANGUL SYLLABLE JI}) missing from font(s) Arial.\n",
      "  fig.savefig(plot_fname, dpi=250)\n",
      "c:\\Users\\User\\HTP_Test\\venv\\Lib\\site-packages\\ultralytics\\utils\\metrics.py:432: UserWarning: Glyph 48533 (\\N{HANGUL SYLLABLE BUNG}) missing from font(s) Arial.\n",
      "  fig.savefig(plot_fname, dpi=250)\n",
      "c:\\Users\\User\\HTP_Test\\venv\\Lib\\site-packages\\ultralytics\\utils\\metrics.py:432: UserWarning: Glyph 48317 (\\N{HANGUL SYLLABLE BYEOG}) missing from font(s) Arial.\n",
      "  fig.savefig(plot_fname, dpi=250)\n",
      "c:\\Users\\User\\HTP_Test\\venv\\Lib\\site-packages\\ultralytics\\utils\\metrics.py:432: UserWarning: Glyph 47928 (\\N{HANGUL SYLLABLE MUN}) missing from font(s) Arial.\n",
      "  fig.savefig(plot_fname, dpi=250)\n",
      "c:\\Users\\User\\HTP_Test\\venv\\Lib\\site-packages\\ultralytics\\utils\\metrics.py:432: UserWarning: Glyph 52285 (\\N{HANGUL SYLLABLE CANG}) missing from font(s) Arial.\n",
      "  fig.savefig(plot_fname, dpi=250)\n",
      "c:\\Users\\User\\HTP_Test\\venv\\Lib\\site-packages\\ultralytics\\utils\\metrics.py:432: UserWarning: Glyph 44404 (\\N{HANGUL SYLLABLE GUL}) missing from font(s) Arial.\n",
      "  fig.savefig(plot_fname, dpi=250)\n",
      "c:\\Users\\User\\HTP_Test\\venv\\Lib\\site-packages\\ultralytics\\utils\\metrics.py:432: UserWarning: Glyph 46749 (\\N{HANGUL SYLLABLE DDUG}) missing from font(s) Arial.\n",
      "  fig.savefig(plot_fname, dpi=250)\n",
      "c:\\Users\\User\\HTP_Test\\venv\\Lib\\site-packages\\ultralytics\\utils\\metrics.py:432: UserWarning: Glyph 50672 (\\N{HANGUL SYLLABLE YEON}) missing from font(s) Arial.\n",
      "  fig.savefig(plot_fname, dpi=250)\n",
      "c:\\Users\\User\\HTP_Test\\venv\\Lib\\site-packages\\ultralytics\\utils\\metrics.py:432: UserWarning: Glyph 44592 (\\N{HANGUL SYLLABLE GI}) missing from font(s) Arial.\n",
      "  fig.savefig(plot_fname, dpi=250)\n",
      "c:\\Users\\User\\HTP_Test\\venv\\Lib\\site-packages\\ultralytics\\utils\\metrics.py:432: UserWarning: Glyph 50872 (\\N{HANGUL SYLLABLE UL}) missing from font(s) Arial.\n",
      "  fig.savefig(plot_fname, dpi=250)\n",
      "c:\\Users\\User\\HTP_Test\\venv\\Lib\\site-packages\\ultralytics\\utils\\metrics.py:432: UserWarning: Glyph 53440 (\\N{HANGUL SYLLABLE TA}) missing from font(s) Arial.\n",
      "  fig.savefig(plot_fname, dpi=250)\n",
      "c:\\Users\\User\\HTP_Test\\venv\\Lib\\site-packages\\ultralytics\\utils\\metrics.py:432: UserWarning: Glyph 47532 (\\N{HANGUL SYLLABLE RI}) missing from font(s) Arial.\n",
      "  fig.savefig(plot_fname, dpi=250)\n",
      "c:\\Users\\User\\HTP_Test\\venv\\Lib\\site-packages\\ultralytics\\utils\\metrics.py:432: UserWarning: Glyph 49328 (\\N{HANGUL SYLLABLE SAN}) missing from font(s) Arial.\n",
      "  fig.savefig(plot_fname, dpi=250)\n",
      "c:\\Users\\User\\HTP_Test\\venv\\Lib\\site-packages\\ultralytics\\utils\\metrics.py:432: UserWarning: Glyph 45208 (\\N{HANGUL SYLLABLE NA}) missing from font(s) Arial.\n",
      "  fig.savefig(plot_fname, dpi=250)\n",
      "c:\\Users\\User\\HTP_Test\\venv\\Lib\\site-packages\\ultralytics\\utils\\metrics.py:432: UserWarning: Glyph 47924 (\\N{HANGUL SYLLABLE MU}) missing from font(s) Arial.\n",
      "  fig.savefig(plot_fname, dpi=250)\n",
      "c:\\Users\\User\\HTP_Test\\venv\\Lib\\site-packages\\ultralytics\\utils\\metrics.py:432: UserWarning: Glyph 44867 (\\N{HANGUL SYLLABLE GGOC}) missing from font(s) Arial.\n",
      "  fig.savefig(plot_fname, dpi=250)\n",
      "c:\\Users\\User\\HTP_Test\\venv\\Lib\\site-packages\\ultralytics\\utils\\metrics.py:432: UserWarning: Glyph 51092 (\\N{HANGUL SYLLABLE JAN}) missing from font(s) Arial.\n",
      "  fig.savefig(plot_fname, dpi=250)\n",
      "c:\\Users\\User\\HTP_Test\\venv\\Lib\\site-packages\\ultralytics\\utils\\metrics.py:432: UserWarning: Glyph 46356 (\\N{HANGUL SYLLABLE DI}) missing from font(s) Arial.\n",
      "  fig.savefig(plot_fname, dpi=250)\n",
      "c:\\Users\\User\\HTP_Test\\venv\\Lib\\site-packages\\ultralytics\\utils\\metrics.py:432: UserWarning: Glyph 53468 (\\N{HANGUL SYLLABLE TAE}) missing from font(s) Arial.\n",
      "  fig.savefig(plot_fname, dpi=250)\n",
      "c:\\Users\\User\\HTP_Test\\venv\\Lib\\site-packages\\ultralytics\\utils\\metrics.py:432: UserWarning: Glyph 50577 (\\N{HANGUL SYLLABLE YANG}) missing from font(s) Arial.\n",
      "  fig.savefig(plot_fname, dpi=250)\n",
      "c:\\Users\\User\\HTP_Test\\venv\\Lib\\site-packages\\ultralytics\\utils\\metrics.py:432: UserWarning: Glyph 46181 (\\N{HANGUL SYLLABLE DUNG}) missing from font(s) Arial.\n",
      "  fig.savefig(plot_fname, dpi=250)\n",
      "c:\\Users\\User\\HTP_Test\\venv\\Lib\\site-packages\\ultralytics\\utils\\metrics.py:432: UserWarning: Glyph 49688 (\\N{HANGUL SYLLABLE SU}) missing from font(s) Arial.\n",
      "  fig.savefig(plot_fname, dpi=250)\n",
      "c:\\Users\\User\\HTP_Test\\venv\\Lib\\site-packages\\ultralytics\\utils\\metrics.py:432: UserWarning: Glyph 44288 (\\N{HANGUL SYLLABLE GWAN}) missing from font(s) Arial.\n",
      "  fig.savefig(plot_fname, dpi=250)\n",
      "c:\\Users\\User\\HTP_Test\\venv\\Lib\\site-packages\\ultralytics\\utils\\metrics.py:432: UserWarning: Glyph 44032 (\\N{HANGUL SYLLABLE GA}) missing from font(s) Arial.\n",
      "  fig.savefig(plot_fname, dpi=250)\n",
      "c:\\Users\\User\\HTP_Test\\venv\\Lib\\site-packages\\ultralytics\\utils\\metrics.py:432: UserWarning: Glyph 49100 (\\N{HANGUL SYLLABLE BBU}) missing from font(s) Arial.\n",
      "  fig.savefig(plot_fname, dpi=250)\n",
      "c:\\Users\\User\\HTP_Test\\venv\\Lib\\site-packages\\ultralytics\\utils\\metrics.py:432: UserWarning: Glyph 47943 (\\N{HANGUL SYLLABLE MUS}) missing from font(s) Arial.\n",
      "  fig.savefig(plot_fname, dpi=250)\n",
      "c:\\Users\\User\\HTP_Test\\venv\\Lib\\site-packages\\ultralytics\\utils\\metrics.py:432: UserWarning: Glyph 51086 (\\N{HANGUL SYLLABLE IP}) missing from font(s) Arial.\n",
      "  fig.savefig(plot_fname, dpi=250)\n",
      "c:\\Users\\User\\HTP_Test\\venv\\Lib\\site-packages\\ultralytics\\utils\\metrics.py:432: UserWarning: Glyph 50676 (\\N{HANGUL SYLLABLE YEOL}) missing from font(s) Arial.\n",
      "  fig.savefig(plot_fname, dpi=250)\n",
      "c:\\Users\\User\\HTP_Test\\venv\\Lib\\site-packages\\ultralytics\\utils\\metrics.py:432: UserWarning: Glyph 47588 (\\N{HANGUL SYLLABLE MAE}) missing from font(s) Arial.\n",
      "  fig.savefig(plot_fname, dpi=250)\n",
      "c:\\Users\\User\\HTP_Test\\venv\\Lib\\site-packages\\ultralytics\\utils\\metrics.py:432: UserWarning: Glyph 49324 (\\N{HANGUL SYLLABLE SA}) missing from font(s) Arial.\n",
      "  fig.savefig(plot_fname, dpi=250)\n",
      "c:\\Users\\User\\HTP_Test\\venv\\Lib\\site-packages\\ultralytics\\utils\\metrics.py:432: UserWarning: Glyph 46988 (\\N{HANGUL SYLLABLE RAM}) missing from font(s) Arial.\n",
      "  fig.savefig(plot_fname, dpi=250)\n",
      "c:\\Users\\User\\HTP_Test\\venv\\Lib\\site-packages\\ultralytics\\utils\\metrics.py:432: UserWarning: Glyph 47672 (\\N{HANGUL SYLLABLE MEO}) missing from font(s) Arial.\n",
      "  fig.savefig(plot_fname, dpi=250)\n",
      "c:\\Users\\User\\HTP_Test\\venv\\Lib\\site-packages\\ultralytics\\utils\\metrics.py:432: UserWarning: Glyph 50620 (\\N{HANGUL SYLLABLE EOL}) missing from font(s) Arial.\n",
      "  fig.savefig(plot_fname, dpi=250)\n",
      "c:\\Users\\User\\HTP_Test\\venv\\Lib\\site-packages\\ultralytics\\utils\\metrics.py:432: UserWarning: Glyph 45576 (\\N{HANGUL SYLLABLE NUN}) missing from font(s) Arial.\n",
      "  fig.savefig(plot_fname, dpi=250)\n",
      "c:\\Users\\User\\HTP_Test\\venv\\Lib\\site-packages\\ultralytics\\utils\\metrics.py:432: UserWarning: Glyph 53076 (\\N{HANGUL SYLLABLE KO}) missing from font(s) Arial.\n",
      "  fig.savefig(plot_fname, dpi=250)\n",
      "c:\\Users\\User\\HTP_Test\\venv\\Lib\\site-packages\\ultralytics\\utils\\metrics.py:432: UserWarning: Glyph 51077 (\\N{HANGUL SYLLABLE IB}) missing from font(s) Arial.\n",
      "  fig.savefig(plot_fname, dpi=250)\n",
      "c:\\Users\\User\\HTP_Test\\venv\\Lib\\site-packages\\ultralytics\\utils\\metrics.py:432: UserWarning: Glyph 44480 (\\N{HANGUL SYLLABLE GWI}) missing from font(s) Arial.\n",
      "  fig.savefig(plot_fname, dpi=250)\n",
      "c:\\Users\\User\\HTP_Test\\venv\\Lib\\site-packages\\ultralytics\\utils\\metrics.py:432: UserWarning: Glyph 52852 (\\N{HANGUL SYLLABLE KA}) missing from font(s) Arial.\n",
      "  fig.savefig(plot_fname, dpi=250)\n",
      "c:\\Users\\User\\HTP_Test\\venv\\Lib\\site-packages\\ultralytics\\utils\\metrics.py:432: UserWarning: Glyph 46973 (\\N{HANGUL SYLLABLE RAG}) missing from font(s) Arial.\n",
      "  fig.savefig(plot_fname, dpi=250)\n",
      "c:\\Users\\User\\HTP_Test\\venv\\Lib\\site-packages\\ultralytics\\utils\\metrics.py:432: UserWarning: Glyph 47785 (\\N{HANGUL SYLLABLE MOG}) missing from font(s) Arial.\n",
      "  fig.savefig(plot_fname, dpi=250)\n",
      "c:\\Users\\User\\HTP_Test\\venv\\Lib\\site-packages\\ultralytics\\utils\\metrics.py:432: UserWarning: Glyph 49345 (\\N{HANGUL SYLLABLE SANG}) missing from font(s) Arial.\n",
      "  fig.savefig(plot_fname, dpi=250)\n",
      "c:\\Users\\User\\HTP_Test\\venv\\Lib\\site-packages\\ultralytics\\utils\\metrics.py:432: UserWarning: Glyph 54036 (\\N{HANGUL SYLLABLE PAL}) missing from font(s) Arial.\n",
      "  fig.savefig(plot_fname, dpi=250)\n",
      "c:\\Users\\User\\HTP_Test\\venv\\Lib\\site-packages\\ultralytics\\utils\\metrics.py:432: UserWarning: Glyph 49552 (\\N{HANGUL SYLLABLE SON}) missing from font(s) Arial.\n",
      "  fig.savefig(plot_fname, dpi=250)\n",
      "c:\\Users\\User\\HTP_Test\\venv\\Lib\\site-packages\\ultralytics\\utils\\metrics.py:432: UserWarning: Glyph 45796 (\\N{HANGUL SYLLABLE DA}) missing from font(s) Arial.\n",
      "  fig.savefig(plot_fname, dpi=250)\n",
      "c:\\Users\\User\\HTP_Test\\venv\\Lib\\site-packages\\ultralytics\\utils\\metrics.py:432: UserWarning: Glyph 48156 (\\N{HANGUL SYLLABLE BAL}) missing from font(s) Arial.\n",
      "  fig.savefig(plot_fname, dpi=250)\n",
      "c:\\Users\\User\\HTP_Test\\venv\\Lib\\site-packages\\ultralytics\\utils\\metrics.py:432: UserWarning: Glyph 45800 (\\N{HANGUL SYLLABLE DAN}) missing from font(s) Arial.\n",
      "  fig.savefig(plot_fname, dpi=250)\n",
      "c:\\Users\\User\\HTP_Test\\venv\\Lib\\site-packages\\ultralytics\\utils\\metrics.py:432: UserWarning: Glyph 52628 (\\N{HANGUL SYLLABLE CU}) missing from font(s) Arial.\n",
      "  fig.savefig(plot_fname, dpi=250)\n",
      "c:\\Users\\User\\HTP_Test\\venv\\Lib\\site-packages\\ultralytics\\utils\\metrics.py:432: UserWarning: Glyph 51452 (\\N{HANGUL SYLLABLE JU}) missing from font(s) Arial.\n",
      "  fig.savefig(plot_fname, dpi=250)\n",
      "c:\\Users\\User\\HTP_Test\\venv\\Lib\\site-packages\\ultralytics\\utils\\metrics.py:432: UserWarning: Glyph 45768 (\\N{HANGUL SYLLABLE NI}) missing from font(s) Arial.\n",
      "  fig.savefig(plot_fname, dpi=250)\n",
      "c:\\Users\\User\\HTP_Test\\venv\\Lib\\site-packages\\ultralytics\\utils\\metrics.py:432: UserWarning: Glyph 51665 (\\N{HANGUL SYLLABLE JIB}) missing from font(s) Arial.\n",
      "  fig.savefig(plot_fname, dpi=250)\n",
      "c:\\Users\\User\\HTP_Test\\venv\\Lib\\site-packages\\ultralytics\\utils\\metrics.py:432: UserWarning: Glyph 51204 (\\N{HANGUL SYLLABLE JEON}) missing from font(s) Arial.\n",
      "  fig.savefig(plot_fname, dpi=250)\n",
      "c:\\Users\\User\\HTP_Test\\venv\\Lib\\site-packages\\ultralytics\\utils\\metrics.py:432: UserWarning: Glyph 52404 (\\N{HANGUL SYLLABLE CE}) missing from font(s) Arial.\n",
      "  fig.savefig(plot_fname, dpi=250)\n",
      "c:\\Users\\User\\HTP_Test\\venv\\Lib\\site-packages\\ultralytics\\utils\\metrics.py:432: UserWarning: Glyph 51648 (\\N{HANGUL SYLLABLE JI}) missing from font(s) Arial.\n",
      "  fig.savefig(plot_fname, dpi=250)\n",
      "c:\\Users\\User\\HTP_Test\\venv\\Lib\\site-packages\\ultralytics\\utils\\metrics.py:432: UserWarning: Glyph 48533 (\\N{HANGUL SYLLABLE BUNG}) missing from font(s) Arial.\n",
      "  fig.savefig(plot_fname, dpi=250)\n",
      "c:\\Users\\User\\HTP_Test\\venv\\Lib\\site-packages\\ultralytics\\utils\\metrics.py:432: UserWarning: Glyph 48317 (\\N{HANGUL SYLLABLE BYEOG}) missing from font(s) Arial.\n",
      "  fig.savefig(plot_fname, dpi=250)\n",
      "c:\\Users\\User\\HTP_Test\\venv\\Lib\\site-packages\\ultralytics\\utils\\metrics.py:432: UserWarning: Glyph 47928 (\\N{HANGUL SYLLABLE MUN}) missing from font(s) Arial.\n",
      "  fig.savefig(plot_fname, dpi=250)\n",
      "c:\\Users\\User\\HTP_Test\\venv\\Lib\\site-packages\\ultralytics\\utils\\metrics.py:432: UserWarning: Glyph 52285 (\\N{HANGUL SYLLABLE CANG}) missing from font(s) Arial.\n",
      "  fig.savefig(plot_fname, dpi=250)\n",
      "c:\\Users\\User\\HTP_Test\\venv\\Lib\\site-packages\\ultralytics\\utils\\metrics.py:432: UserWarning: Glyph 44404 (\\N{HANGUL SYLLABLE GUL}) missing from font(s) Arial.\n",
      "  fig.savefig(plot_fname, dpi=250)\n",
      "c:\\Users\\User\\HTP_Test\\venv\\Lib\\site-packages\\ultralytics\\utils\\metrics.py:432: UserWarning: Glyph 46749 (\\N{HANGUL SYLLABLE DDUG}) missing from font(s) Arial.\n",
      "  fig.savefig(plot_fname, dpi=250)\n",
      "c:\\Users\\User\\HTP_Test\\venv\\Lib\\site-packages\\ultralytics\\utils\\metrics.py:432: UserWarning: Glyph 50672 (\\N{HANGUL SYLLABLE YEON}) missing from font(s) Arial.\n",
      "  fig.savefig(plot_fname, dpi=250)\n",
      "c:\\Users\\User\\HTP_Test\\venv\\Lib\\site-packages\\ultralytics\\utils\\metrics.py:432: UserWarning: Glyph 44592 (\\N{HANGUL SYLLABLE GI}) missing from font(s) Arial.\n",
      "  fig.savefig(plot_fname, dpi=250)\n",
      "c:\\Users\\User\\HTP_Test\\venv\\Lib\\site-packages\\ultralytics\\utils\\metrics.py:432: UserWarning: Glyph 50872 (\\N{HANGUL SYLLABLE UL}) missing from font(s) Arial.\n",
      "  fig.savefig(plot_fname, dpi=250)\n",
      "c:\\Users\\User\\HTP_Test\\venv\\Lib\\site-packages\\ultralytics\\utils\\metrics.py:432: UserWarning: Glyph 53440 (\\N{HANGUL SYLLABLE TA}) missing from font(s) Arial.\n",
      "  fig.savefig(plot_fname, dpi=250)\n",
      "c:\\Users\\User\\HTP_Test\\venv\\Lib\\site-packages\\ultralytics\\utils\\metrics.py:432: UserWarning: Glyph 47532 (\\N{HANGUL SYLLABLE RI}) missing from font(s) Arial.\n",
      "  fig.savefig(plot_fname, dpi=250)\n",
      "c:\\Users\\User\\HTP_Test\\venv\\Lib\\site-packages\\ultralytics\\utils\\metrics.py:432: UserWarning: Glyph 49328 (\\N{HANGUL SYLLABLE SAN}) missing from font(s) Arial.\n",
      "  fig.savefig(plot_fname, dpi=250)\n",
      "c:\\Users\\User\\HTP_Test\\venv\\Lib\\site-packages\\ultralytics\\utils\\metrics.py:432: UserWarning: Glyph 45208 (\\N{HANGUL SYLLABLE NA}) missing from font(s) Arial.\n",
      "  fig.savefig(plot_fname, dpi=250)\n",
      "c:\\Users\\User\\HTP_Test\\venv\\Lib\\site-packages\\ultralytics\\utils\\metrics.py:432: UserWarning: Glyph 47924 (\\N{HANGUL SYLLABLE MU}) missing from font(s) Arial.\n",
      "  fig.savefig(plot_fname, dpi=250)\n",
      "c:\\Users\\User\\HTP_Test\\venv\\Lib\\site-packages\\ultralytics\\utils\\metrics.py:432: UserWarning: Glyph 44867 (\\N{HANGUL SYLLABLE GGOC}) missing from font(s) Arial.\n",
      "  fig.savefig(plot_fname, dpi=250)\n",
      "c:\\Users\\User\\HTP_Test\\venv\\Lib\\site-packages\\ultralytics\\utils\\metrics.py:432: UserWarning: Glyph 51092 (\\N{HANGUL SYLLABLE JAN}) missing from font(s) Arial.\n",
      "  fig.savefig(plot_fname, dpi=250)\n",
      "c:\\Users\\User\\HTP_Test\\venv\\Lib\\site-packages\\ultralytics\\utils\\metrics.py:432: UserWarning: Glyph 46356 (\\N{HANGUL SYLLABLE DI}) missing from font(s) Arial.\n",
      "  fig.savefig(plot_fname, dpi=250)\n",
      "c:\\Users\\User\\HTP_Test\\venv\\Lib\\site-packages\\ultralytics\\utils\\metrics.py:432: UserWarning: Glyph 53468 (\\N{HANGUL SYLLABLE TAE}) missing from font(s) Arial.\n",
      "  fig.savefig(plot_fname, dpi=250)\n",
      "c:\\Users\\User\\HTP_Test\\venv\\Lib\\site-packages\\ultralytics\\utils\\metrics.py:432: UserWarning: Glyph 50577 (\\N{HANGUL SYLLABLE YANG}) missing from font(s) Arial.\n",
      "  fig.savefig(plot_fname, dpi=250)\n",
      "c:\\Users\\User\\HTP_Test\\venv\\Lib\\site-packages\\ultralytics\\utils\\metrics.py:432: UserWarning: Glyph 46181 (\\N{HANGUL SYLLABLE DUNG}) missing from font(s) Arial.\n",
      "  fig.savefig(plot_fname, dpi=250)\n",
      "c:\\Users\\User\\HTP_Test\\venv\\Lib\\site-packages\\ultralytics\\utils\\metrics.py:432: UserWarning: Glyph 49688 (\\N{HANGUL SYLLABLE SU}) missing from font(s) Arial.\n",
      "  fig.savefig(plot_fname, dpi=250)\n",
      "c:\\Users\\User\\HTP_Test\\venv\\Lib\\site-packages\\ultralytics\\utils\\metrics.py:432: UserWarning: Glyph 44288 (\\N{HANGUL SYLLABLE GWAN}) missing from font(s) Arial.\n",
      "  fig.savefig(plot_fname, dpi=250)\n",
      "c:\\Users\\User\\HTP_Test\\venv\\Lib\\site-packages\\ultralytics\\utils\\metrics.py:432: UserWarning: Glyph 44032 (\\N{HANGUL SYLLABLE GA}) missing from font(s) Arial.\n",
      "  fig.savefig(plot_fname, dpi=250)\n",
      "c:\\Users\\User\\HTP_Test\\venv\\Lib\\site-packages\\ultralytics\\utils\\metrics.py:432: UserWarning: Glyph 49100 (\\N{HANGUL SYLLABLE BBU}) missing from font(s) Arial.\n",
      "  fig.savefig(plot_fname, dpi=250)\n",
      "c:\\Users\\User\\HTP_Test\\venv\\Lib\\site-packages\\ultralytics\\utils\\metrics.py:432: UserWarning: Glyph 47943 (\\N{HANGUL SYLLABLE MUS}) missing from font(s) Arial.\n",
      "  fig.savefig(plot_fname, dpi=250)\n",
      "c:\\Users\\User\\HTP_Test\\venv\\Lib\\site-packages\\ultralytics\\utils\\metrics.py:432: UserWarning: Glyph 51086 (\\N{HANGUL SYLLABLE IP}) missing from font(s) Arial.\n",
      "  fig.savefig(plot_fname, dpi=250)\n",
      "c:\\Users\\User\\HTP_Test\\venv\\Lib\\site-packages\\ultralytics\\utils\\metrics.py:432: UserWarning: Glyph 50676 (\\N{HANGUL SYLLABLE YEOL}) missing from font(s) Arial.\n",
      "  fig.savefig(plot_fname, dpi=250)\n",
      "c:\\Users\\User\\HTP_Test\\venv\\Lib\\site-packages\\ultralytics\\utils\\metrics.py:432: UserWarning: Glyph 47588 (\\N{HANGUL SYLLABLE MAE}) missing from font(s) Arial.\n",
      "  fig.savefig(plot_fname, dpi=250)\n",
      "c:\\Users\\User\\HTP_Test\\venv\\Lib\\site-packages\\ultralytics\\utils\\metrics.py:432: UserWarning: Glyph 49324 (\\N{HANGUL SYLLABLE SA}) missing from font(s) Arial.\n",
      "  fig.savefig(plot_fname, dpi=250)\n",
      "c:\\Users\\User\\HTP_Test\\venv\\Lib\\site-packages\\ultralytics\\utils\\metrics.py:432: UserWarning: Glyph 46988 (\\N{HANGUL SYLLABLE RAM}) missing from font(s) Arial.\n",
      "  fig.savefig(plot_fname, dpi=250)\n",
      "c:\\Users\\User\\HTP_Test\\venv\\Lib\\site-packages\\ultralytics\\utils\\metrics.py:432: UserWarning: Glyph 47672 (\\N{HANGUL SYLLABLE MEO}) missing from font(s) Arial.\n",
      "  fig.savefig(plot_fname, dpi=250)\n",
      "c:\\Users\\User\\HTP_Test\\venv\\Lib\\site-packages\\ultralytics\\utils\\metrics.py:432: UserWarning: Glyph 50620 (\\N{HANGUL SYLLABLE EOL}) missing from font(s) Arial.\n",
      "  fig.savefig(plot_fname, dpi=250)\n",
      "c:\\Users\\User\\HTP_Test\\venv\\Lib\\site-packages\\ultralytics\\utils\\metrics.py:432: UserWarning: Glyph 45576 (\\N{HANGUL SYLLABLE NUN}) missing from font(s) Arial.\n",
      "  fig.savefig(plot_fname, dpi=250)\n",
      "c:\\Users\\User\\HTP_Test\\venv\\Lib\\site-packages\\ultralytics\\utils\\metrics.py:432: UserWarning: Glyph 53076 (\\N{HANGUL SYLLABLE KO}) missing from font(s) Arial.\n",
      "  fig.savefig(plot_fname, dpi=250)\n",
      "c:\\Users\\User\\HTP_Test\\venv\\Lib\\site-packages\\ultralytics\\utils\\metrics.py:432: UserWarning: Glyph 51077 (\\N{HANGUL SYLLABLE IB}) missing from font(s) Arial.\n",
      "  fig.savefig(plot_fname, dpi=250)\n",
      "c:\\Users\\User\\HTP_Test\\venv\\Lib\\site-packages\\ultralytics\\utils\\metrics.py:432: UserWarning: Glyph 44480 (\\N{HANGUL SYLLABLE GWI}) missing from font(s) Arial.\n",
      "  fig.savefig(plot_fname, dpi=250)\n",
      "c:\\Users\\User\\HTP_Test\\venv\\Lib\\site-packages\\ultralytics\\utils\\metrics.py:432: UserWarning: Glyph 52852 (\\N{HANGUL SYLLABLE KA}) missing from font(s) Arial.\n",
      "  fig.savefig(plot_fname, dpi=250)\n",
      "c:\\Users\\User\\HTP_Test\\venv\\Lib\\site-packages\\ultralytics\\utils\\metrics.py:432: UserWarning: Glyph 46973 (\\N{HANGUL SYLLABLE RAG}) missing from font(s) Arial.\n",
      "  fig.savefig(plot_fname, dpi=250)\n",
      "c:\\Users\\User\\HTP_Test\\venv\\Lib\\site-packages\\ultralytics\\utils\\metrics.py:432: UserWarning: Glyph 47785 (\\N{HANGUL SYLLABLE MOG}) missing from font(s) Arial.\n",
      "  fig.savefig(plot_fname, dpi=250)\n",
      "c:\\Users\\User\\HTP_Test\\venv\\Lib\\site-packages\\ultralytics\\utils\\metrics.py:432: UserWarning: Glyph 49345 (\\N{HANGUL SYLLABLE SANG}) missing from font(s) Arial.\n",
      "  fig.savefig(plot_fname, dpi=250)\n",
      "c:\\Users\\User\\HTP_Test\\venv\\Lib\\site-packages\\ultralytics\\utils\\metrics.py:432: UserWarning: Glyph 54036 (\\N{HANGUL SYLLABLE PAL}) missing from font(s) Arial.\n",
      "  fig.savefig(plot_fname, dpi=250)\n",
      "c:\\Users\\User\\HTP_Test\\venv\\Lib\\site-packages\\ultralytics\\utils\\metrics.py:432: UserWarning: Glyph 49552 (\\N{HANGUL SYLLABLE SON}) missing from font(s) Arial.\n",
      "  fig.savefig(plot_fname, dpi=250)\n",
      "c:\\Users\\User\\HTP_Test\\venv\\Lib\\site-packages\\ultralytics\\utils\\metrics.py:432: UserWarning: Glyph 45796 (\\N{HANGUL SYLLABLE DA}) missing from font(s) Arial.\n",
      "  fig.savefig(plot_fname, dpi=250)\n",
      "c:\\Users\\User\\HTP_Test\\venv\\Lib\\site-packages\\ultralytics\\utils\\metrics.py:432: UserWarning: Glyph 48156 (\\N{HANGUL SYLLABLE BAL}) missing from font(s) Arial.\n",
      "  fig.savefig(plot_fname, dpi=250)\n",
      "c:\\Users\\User\\HTP_Test\\venv\\Lib\\site-packages\\ultralytics\\utils\\metrics.py:432: UserWarning: Glyph 45800 (\\N{HANGUL SYLLABLE DAN}) missing from font(s) Arial.\n",
      "  fig.savefig(plot_fname, dpi=250)\n",
      "c:\\Users\\User\\HTP_Test\\venv\\Lib\\site-packages\\ultralytics\\utils\\metrics.py:432: UserWarning: Glyph 52628 (\\N{HANGUL SYLLABLE CU}) missing from font(s) Arial.\n",
      "  fig.savefig(plot_fname, dpi=250)\n",
      "c:\\Users\\User\\HTP_Test\\venv\\Lib\\site-packages\\ultralytics\\utils\\metrics.py:432: UserWarning: Glyph 51452 (\\N{HANGUL SYLLABLE JU}) missing from font(s) Arial.\n",
      "  fig.savefig(plot_fname, dpi=250)\n",
      "c:\\Users\\User\\HTP_Test\\venv\\Lib\\site-packages\\ultralytics\\utils\\metrics.py:432: UserWarning: Glyph 45768 (\\N{HANGUL SYLLABLE NI}) missing from font(s) Arial.\n",
      "  fig.savefig(plot_fname, dpi=250)\n"
     ]
    },
    {
     "name": "stdout",
     "output_type": "stream",
     "text": [
      "Speed: 0.1ms preprocess, 1.6ms inference, 0.0ms loss, 0.6ms postprocess per image\n",
      "Results saved to \u001b[1mruns\\detect\\train5\u001b[0m\n",
      "Ultralytics 8.3.32  Python-3.11.9 torch-2.5.1+cu124 CUDA:0 (NVIDIA GeForce RTX 4070, 12282MiB)\n",
      "YOLO11n summary (fused): 238 layers, 2,589,172 parameters, 0 gradients, 6.4 GFLOPs\n"
     ]
    },
    {
     "name": "stderr",
     "output_type": "stream",
     "text": [
      "\u001b[34m\u001b[1mval: \u001b[0mScanning C:\\Users\\User\\HTP_Test\\YOLO\\valid\\labels.cache... 5600 images, 0 backgrounds, 0 corrupt: 100%|██████████| 5600/5600 [00:00<?, ?it/s]\n",
      "                 Class     Images  Instances      Box(P          R      mAP50  mAP50-95): 100%|██████████| 350/350 [00:39<00:00,  8.94it/s]\n"
     ]
    },
    {
     "name": "stdout",
     "output_type": "stream",
     "text": [
      "                   all       5600     110033      0.972      0.959      0.981      0.863\n",
      "                          1400       1401      0.997      0.998      0.995      0.982\n",
      "                           1400       1417       0.99      0.989      0.995      0.961\n",
      "                           1400       1420      0.992      0.989      0.995      0.969\n",
      "                            1400       1425      0.986      0.984      0.994      0.923\n",
      "                           1400       2434       0.98      0.968       0.99      0.893\n",
      "                           1400       1405       0.97      0.979      0.991      0.914\n",
      "                           1400       1406      0.959      0.963      0.988      0.889\n",
      "                          1400       2044      0.932      0.939      0.971      0.881\n",
      "                            1400       1651      0.908      0.935      0.962      0.881\n",
      "                           1400       1695      0.986      0.983      0.993      0.951\n",
      "                            2800       5743       0.97      0.956      0.985       0.88\n",
      "                           1400       5811      0.927      0.887      0.942      0.737\n",
      "                           1400       1404      0.987      0.991      0.994      0.943\n",
      "                         1400       1400      0.992          1      0.995      0.975\n",
      "                           1400       1400      0.989      0.986      0.994      0.799\n",
      "                           1400       1490      0.974      0.975      0.992      0.971\n",
      "                           1400       2143       0.93      0.882      0.953      0.756\n",
      "                           1400       1416      0.975       0.98      0.993      0.865\n",
      "                          1400       4050      0.909      0.863      0.933      0.725\n",
      "                           1400       4824      0.934       0.87      0.947      0.764\n",
      "                         2800       2801          1          1      0.995      0.991\n",
      "                           2800       2800          1          1      0.995      0.977\n",
      "                           2800       2800      0.999      0.999      0.995      0.956\n",
      "                            2800       5600       0.96      0.916      0.962       0.73\n",
      "                            2800       2800      0.962      0.827      0.928      0.629\n",
      "                            2800       2800      0.977      0.953      0.986      0.792\n",
      "                            2800       5568      0.978      0.969      0.991      0.753\n",
      "                         2800       2800       0.99      0.994      0.992      0.935\n",
      "                            2800       2800      0.987      0.972      0.993      0.704\n",
      "                           2800       2800      0.988       0.99      0.995      0.948\n",
      "                            2800       5599      0.993      0.996      0.995      0.913\n",
      "                            2800       5582      0.987      0.983      0.993      0.825\n",
      "                           2800       5597      0.969      0.979      0.991      0.927\n",
      "                            2800       5600      0.984      0.989      0.993      0.835\n",
      "                           2800       2919      0.957      0.894      0.944      0.744\n",
      "                          2800       5188      0.973      0.952      0.982      0.744\n"
     ]
    },
    {
     "name": "stderr",
     "output_type": "stream",
     "text": [
      "c:\\Users\\User\\HTP_Test\\venv\\Lib\\site-packages\\ultralytics\\utils\\metrics.py:432: UserWarning: Glyph 51665 (\\N{HANGUL SYLLABLE JIB}) missing from font(s) Arial.\n",
      "  fig.savefig(plot_fname, dpi=250)\n",
      "c:\\Users\\User\\HTP_Test\\venv\\Lib\\site-packages\\ultralytics\\utils\\metrics.py:432: UserWarning: Glyph 51204 (\\N{HANGUL SYLLABLE JEON}) missing from font(s) Arial.\n",
      "  fig.savefig(plot_fname, dpi=250)\n",
      "c:\\Users\\User\\HTP_Test\\venv\\Lib\\site-packages\\ultralytics\\utils\\metrics.py:432: UserWarning: Glyph 52404 (\\N{HANGUL SYLLABLE CE}) missing from font(s) Arial.\n",
      "  fig.savefig(plot_fname, dpi=250)\n",
      "c:\\Users\\User\\HTP_Test\\venv\\Lib\\site-packages\\ultralytics\\utils\\metrics.py:432: UserWarning: Glyph 51648 (\\N{HANGUL SYLLABLE JI}) missing from font(s) Arial.\n",
      "  fig.savefig(plot_fname, dpi=250)\n",
      "c:\\Users\\User\\HTP_Test\\venv\\Lib\\site-packages\\ultralytics\\utils\\metrics.py:432: UserWarning: Glyph 48533 (\\N{HANGUL SYLLABLE BUNG}) missing from font(s) Arial.\n",
      "  fig.savefig(plot_fname, dpi=250)\n",
      "c:\\Users\\User\\HTP_Test\\venv\\Lib\\site-packages\\ultralytics\\utils\\metrics.py:432: UserWarning: Glyph 48317 (\\N{HANGUL SYLLABLE BYEOG}) missing from font(s) Arial.\n",
      "  fig.savefig(plot_fname, dpi=250)\n",
      "c:\\Users\\User\\HTP_Test\\venv\\Lib\\site-packages\\ultralytics\\utils\\metrics.py:432: UserWarning: Glyph 47928 (\\N{HANGUL SYLLABLE MUN}) missing from font(s) Arial.\n",
      "  fig.savefig(plot_fname, dpi=250)\n",
      "c:\\Users\\User\\HTP_Test\\venv\\Lib\\site-packages\\ultralytics\\utils\\metrics.py:432: UserWarning: Glyph 52285 (\\N{HANGUL SYLLABLE CANG}) missing from font(s) Arial.\n",
      "  fig.savefig(plot_fname, dpi=250)\n",
      "c:\\Users\\User\\HTP_Test\\venv\\Lib\\site-packages\\ultralytics\\utils\\metrics.py:432: UserWarning: Glyph 44404 (\\N{HANGUL SYLLABLE GUL}) missing from font(s) Arial.\n",
      "  fig.savefig(plot_fname, dpi=250)\n",
      "c:\\Users\\User\\HTP_Test\\venv\\Lib\\site-packages\\ultralytics\\utils\\metrics.py:432: UserWarning: Glyph 46749 (\\N{HANGUL SYLLABLE DDUG}) missing from font(s) Arial.\n",
      "  fig.savefig(plot_fname, dpi=250)\n",
      "c:\\Users\\User\\HTP_Test\\venv\\Lib\\site-packages\\ultralytics\\utils\\metrics.py:432: UserWarning: Glyph 50672 (\\N{HANGUL SYLLABLE YEON}) missing from font(s) Arial.\n",
      "  fig.savefig(plot_fname, dpi=250)\n",
      "c:\\Users\\User\\HTP_Test\\venv\\Lib\\site-packages\\ultralytics\\utils\\metrics.py:432: UserWarning: Glyph 44592 (\\N{HANGUL SYLLABLE GI}) missing from font(s) Arial.\n",
      "  fig.savefig(plot_fname, dpi=250)\n",
      "c:\\Users\\User\\HTP_Test\\venv\\Lib\\site-packages\\ultralytics\\utils\\metrics.py:432: UserWarning: Glyph 50872 (\\N{HANGUL SYLLABLE UL}) missing from font(s) Arial.\n",
      "  fig.savefig(plot_fname, dpi=250)\n",
      "c:\\Users\\User\\HTP_Test\\venv\\Lib\\site-packages\\ultralytics\\utils\\metrics.py:432: UserWarning: Glyph 53440 (\\N{HANGUL SYLLABLE TA}) missing from font(s) Arial.\n",
      "  fig.savefig(plot_fname, dpi=250)\n",
      "c:\\Users\\User\\HTP_Test\\venv\\Lib\\site-packages\\ultralytics\\utils\\metrics.py:432: UserWarning: Glyph 47532 (\\N{HANGUL SYLLABLE RI}) missing from font(s) Arial.\n",
      "  fig.savefig(plot_fname, dpi=250)\n",
      "c:\\Users\\User\\HTP_Test\\venv\\Lib\\site-packages\\ultralytics\\utils\\metrics.py:432: UserWarning: Glyph 49328 (\\N{HANGUL SYLLABLE SAN}) missing from font(s) Arial.\n",
      "  fig.savefig(plot_fname, dpi=250)\n",
      "c:\\Users\\User\\HTP_Test\\venv\\Lib\\site-packages\\ultralytics\\utils\\metrics.py:432: UserWarning: Glyph 45208 (\\N{HANGUL SYLLABLE NA}) missing from font(s) Arial.\n",
      "  fig.savefig(plot_fname, dpi=250)\n",
      "c:\\Users\\User\\HTP_Test\\venv\\Lib\\site-packages\\ultralytics\\utils\\metrics.py:432: UserWarning: Glyph 47924 (\\N{HANGUL SYLLABLE MU}) missing from font(s) Arial.\n",
      "  fig.savefig(plot_fname, dpi=250)\n",
      "c:\\Users\\User\\HTP_Test\\venv\\Lib\\site-packages\\ultralytics\\utils\\metrics.py:432: UserWarning: Glyph 44867 (\\N{HANGUL SYLLABLE GGOC}) missing from font(s) Arial.\n",
      "  fig.savefig(plot_fname, dpi=250)\n",
      "c:\\Users\\User\\HTP_Test\\venv\\Lib\\site-packages\\ultralytics\\utils\\metrics.py:432: UserWarning: Glyph 51092 (\\N{HANGUL SYLLABLE JAN}) missing from font(s) Arial.\n",
      "  fig.savefig(plot_fname, dpi=250)\n",
      "c:\\Users\\User\\HTP_Test\\venv\\Lib\\site-packages\\ultralytics\\utils\\metrics.py:432: UserWarning: Glyph 46356 (\\N{HANGUL SYLLABLE DI}) missing from font(s) Arial.\n",
      "  fig.savefig(plot_fname, dpi=250)\n",
      "c:\\Users\\User\\HTP_Test\\venv\\Lib\\site-packages\\ultralytics\\utils\\metrics.py:432: UserWarning: Glyph 53468 (\\N{HANGUL SYLLABLE TAE}) missing from font(s) Arial.\n",
      "  fig.savefig(plot_fname, dpi=250)\n",
      "c:\\Users\\User\\HTP_Test\\venv\\Lib\\site-packages\\ultralytics\\utils\\metrics.py:432: UserWarning: Glyph 50577 (\\N{HANGUL SYLLABLE YANG}) missing from font(s) Arial.\n",
      "  fig.savefig(plot_fname, dpi=250)\n",
      "c:\\Users\\User\\HTP_Test\\venv\\Lib\\site-packages\\ultralytics\\utils\\metrics.py:432: UserWarning: Glyph 46181 (\\N{HANGUL SYLLABLE DUNG}) missing from font(s) Arial.\n",
      "  fig.savefig(plot_fname, dpi=250)\n",
      "c:\\Users\\User\\HTP_Test\\venv\\Lib\\site-packages\\ultralytics\\utils\\metrics.py:432: UserWarning: Glyph 49688 (\\N{HANGUL SYLLABLE SU}) missing from font(s) Arial.\n",
      "  fig.savefig(plot_fname, dpi=250)\n",
      "c:\\Users\\User\\HTP_Test\\venv\\Lib\\site-packages\\ultralytics\\utils\\metrics.py:432: UserWarning: Glyph 44288 (\\N{HANGUL SYLLABLE GWAN}) missing from font(s) Arial.\n",
      "  fig.savefig(plot_fname, dpi=250)\n",
      "c:\\Users\\User\\HTP_Test\\venv\\Lib\\site-packages\\ultralytics\\utils\\metrics.py:432: UserWarning: Glyph 44032 (\\N{HANGUL SYLLABLE GA}) missing from font(s) Arial.\n",
      "  fig.savefig(plot_fname, dpi=250)\n",
      "c:\\Users\\User\\HTP_Test\\venv\\Lib\\site-packages\\ultralytics\\utils\\metrics.py:432: UserWarning: Glyph 49100 (\\N{HANGUL SYLLABLE BBU}) missing from font(s) Arial.\n",
      "  fig.savefig(plot_fname, dpi=250)\n",
      "c:\\Users\\User\\HTP_Test\\venv\\Lib\\site-packages\\ultralytics\\utils\\metrics.py:432: UserWarning: Glyph 47943 (\\N{HANGUL SYLLABLE MUS}) missing from font(s) Arial.\n",
      "  fig.savefig(plot_fname, dpi=250)\n",
      "c:\\Users\\User\\HTP_Test\\venv\\Lib\\site-packages\\ultralytics\\utils\\metrics.py:432: UserWarning: Glyph 51086 (\\N{HANGUL SYLLABLE IP}) missing from font(s) Arial.\n",
      "  fig.savefig(plot_fname, dpi=250)\n",
      "c:\\Users\\User\\HTP_Test\\venv\\Lib\\site-packages\\ultralytics\\utils\\metrics.py:432: UserWarning: Glyph 50676 (\\N{HANGUL SYLLABLE YEOL}) missing from font(s) Arial.\n",
      "  fig.savefig(plot_fname, dpi=250)\n",
      "c:\\Users\\User\\HTP_Test\\venv\\Lib\\site-packages\\ultralytics\\utils\\metrics.py:432: UserWarning: Glyph 47588 (\\N{HANGUL SYLLABLE MAE}) missing from font(s) Arial.\n",
      "  fig.savefig(plot_fname, dpi=250)\n",
      "c:\\Users\\User\\HTP_Test\\venv\\Lib\\site-packages\\ultralytics\\utils\\metrics.py:432: UserWarning: Glyph 49324 (\\N{HANGUL SYLLABLE SA}) missing from font(s) Arial.\n",
      "  fig.savefig(plot_fname, dpi=250)\n",
      "c:\\Users\\User\\HTP_Test\\venv\\Lib\\site-packages\\ultralytics\\utils\\metrics.py:432: UserWarning: Glyph 46988 (\\N{HANGUL SYLLABLE RAM}) missing from font(s) Arial.\n",
      "  fig.savefig(plot_fname, dpi=250)\n",
      "c:\\Users\\User\\HTP_Test\\venv\\Lib\\site-packages\\ultralytics\\utils\\metrics.py:432: UserWarning: Glyph 47672 (\\N{HANGUL SYLLABLE MEO}) missing from font(s) Arial.\n",
      "  fig.savefig(plot_fname, dpi=250)\n",
      "c:\\Users\\User\\HTP_Test\\venv\\Lib\\site-packages\\ultralytics\\utils\\metrics.py:432: UserWarning: Glyph 50620 (\\N{HANGUL SYLLABLE EOL}) missing from font(s) Arial.\n",
      "  fig.savefig(plot_fname, dpi=250)\n",
      "c:\\Users\\User\\HTP_Test\\venv\\Lib\\site-packages\\ultralytics\\utils\\metrics.py:432: UserWarning: Glyph 45576 (\\N{HANGUL SYLLABLE NUN}) missing from font(s) Arial.\n",
      "  fig.savefig(plot_fname, dpi=250)\n",
      "c:\\Users\\User\\HTP_Test\\venv\\Lib\\site-packages\\ultralytics\\utils\\metrics.py:432: UserWarning: Glyph 53076 (\\N{HANGUL SYLLABLE KO}) missing from font(s) Arial.\n",
      "  fig.savefig(plot_fname, dpi=250)\n",
      "c:\\Users\\User\\HTP_Test\\venv\\Lib\\site-packages\\ultralytics\\utils\\metrics.py:432: UserWarning: Glyph 51077 (\\N{HANGUL SYLLABLE IB}) missing from font(s) Arial.\n",
      "  fig.savefig(plot_fname, dpi=250)\n",
      "c:\\Users\\User\\HTP_Test\\venv\\Lib\\site-packages\\ultralytics\\utils\\metrics.py:432: UserWarning: Glyph 44480 (\\N{HANGUL SYLLABLE GWI}) missing from font(s) Arial.\n",
      "  fig.savefig(plot_fname, dpi=250)\n",
      "c:\\Users\\User\\HTP_Test\\venv\\Lib\\site-packages\\ultralytics\\utils\\metrics.py:432: UserWarning: Glyph 52852 (\\N{HANGUL SYLLABLE KA}) missing from font(s) Arial.\n",
      "  fig.savefig(plot_fname, dpi=250)\n",
      "c:\\Users\\User\\HTP_Test\\venv\\Lib\\site-packages\\ultralytics\\utils\\metrics.py:432: UserWarning: Glyph 46973 (\\N{HANGUL SYLLABLE RAG}) missing from font(s) Arial.\n",
      "  fig.savefig(plot_fname, dpi=250)\n",
      "c:\\Users\\User\\HTP_Test\\venv\\Lib\\site-packages\\ultralytics\\utils\\metrics.py:432: UserWarning: Glyph 47785 (\\N{HANGUL SYLLABLE MOG}) missing from font(s) Arial.\n",
      "  fig.savefig(plot_fname, dpi=250)\n",
      "c:\\Users\\User\\HTP_Test\\venv\\Lib\\site-packages\\ultralytics\\utils\\metrics.py:432: UserWarning: Glyph 49345 (\\N{HANGUL SYLLABLE SANG}) missing from font(s) Arial.\n",
      "  fig.savefig(plot_fname, dpi=250)\n",
      "c:\\Users\\User\\HTP_Test\\venv\\Lib\\site-packages\\ultralytics\\utils\\metrics.py:432: UserWarning: Glyph 54036 (\\N{HANGUL SYLLABLE PAL}) missing from font(s) Arial.\n",
      "  fig.savefig(plot_fname, dpi=250)\n",
      "c:\\Users\\User\\HTP_Test\\venv\\Lib\\site-packages\\ultralytics\\utils\\metrics.py:432: UserWarning: Glyph 49552 (\\N{HANGUL SYLLABLE SON}) missing from font(s) Arial.\n",
      "  fig.savefig(plot_fname, dpi=250)\n",
      "c:\\Users\\User\\HTP_Test\\venv\\Lib\\site-packages\\ultralytics\\utils\\metrics.py:432: UserWarning: Glyph 45796 (\\N{HANGUL SYLLABLE DA}) missing from font(s) Arial.\n",
      "  fig.savefig(plot_fname, dpi=250)\n",
      "c:\\Users\\User\\HTP_Test\\venv\\Lib\\site-packages\\ultralytics\\utils\\metrics.py:432: UserWarning: Glyph 48156 (\\N{HANGUL SYLLABLE BAL}) missing from font(s) Arial.\n",
      "  fig.savefig(plot_fname, dpi=250)\n",
      "c:\\Users\\User\\HTP_Test\\venv\\Lib\\site-packages\\ultralytics\\utils\\metrics.py:432: UserWarning: Glyph 45800 (\\N{HANGUL SYLLABLE DAN}) missing from font(s) Arial.\n",
      "  fig.savefig(plot_fname, dpi=250)\n",
      "c:\\Users\\User\\HTP_Test\\venv\\Lib\\site-packages\\ultralytics\\utils\\metrics.py:432: UserWarning: Glyph 52628 (\\N{HANGUL SYLLABLE CU}) missing from font(s) Arial.\n",
      "  fig.savefig(plot_fname, dpi=250)\n",
      "c:\\Users\\User\\HTP_Test\\venv\\Lib\\site-packages\\ultralytics\\utils\\metrics.py:432: UserWarning: Glyph 51452 (\\N{HANGUL SYLLABLE JU}) missing from font(s) Arial.\n",
      "  fig.savefig(plot_fname, dpi=250)\n",
      "c:\\Users\\User\\HTP_Test\\venv\\Lib\\site-packages\\ultralytics\\utils\\metrics.py:432: UserWarning: Glyph 45768 (\\N{HANGUL SYLLABLE NI}) missing from font(s) Arial.\n",
      "  fig.savefig(plot_fname, dpi=250)\n",
      "c:\\Users\\User\\HTP_Test\\venv\\Lib\\site-packages\\ultralytics\\utils\\metrics.py:432: UserWarning: Glyph 51665 (\\N{HANGUL SYLLABLE JIB}) missing from font(s) Arial.\n",
      "  fig.savefig(plot_fname, dpi=250)\n",
      "c:\\Users\\User\\HTP_Test\\venv\\Lib\\site-packages\\ultralytics\\utils\\metrics.py:432: UserWarning: Glyph 51204 (\\N{HANGUL SYLLABLE JEON}) missing from font(s) Arial.\n",
      "  fig.savefig(plot_fname, dpi=250)\n",
      "c:\\Users\\User\\HTP_Test\\venv\\Lib\\site-packages\\ultralytics\\utils\\metrics.py:432: UserWarning: Glyph 52404 (\\N{HANGUL SYLLABLE CE}) missing from font(s) Arial.\n",
      "  fig.savefig(plot_fname, dpi=250)\n",
      "c:\\Users\\User\\HTP_Test\\venv\\Lib\\site-packages\\ultralytics\\utils\\metrics.py:432: UserWarning: Glyph 51648 (\\N{HANGUL SYLLABLE JI}) missing from font(s) Arial.\n",
      "  fig.savefig(plot_fname, dpi=250)\n",
      "c:\\Users\\User\\HTP_Test\\venv\\Lib\\site-packages\\ultralytics\\utils\\metrics.py:432: UserWarning: Glyph 48533 (\\N{HANGUL SYLLABLE BUNG}) missing from font(s) Arial.\n",
      "  fig.savefig(plot_fname, dpi=250)\n",
      "c:\\Users\\User\\HTP_Test\\venv\\Lib\\site-packages\\ultralytics\\utils\\metrics.py:432: UserWarning: Glyph 48317 (\\N{HANGUL SYLLABLE BYEOG}) missing from font(s) Arial.\n",
      "  fig.savefig(plot_fname, dpi=250)\n",
      "c:\\Users\\User\\HTP_Test\\venv\\Lib\\site-packages\\ultralytics\\utils\\metrics.py:432: UserWarning: Glyph 47928 (\\N{HANGUL SYLLABLE MUN}) missing from font(s) Arial.\n",
      "  fig.savefig(plot_fname, dpi=250)\n",
      "c:\\Users\\User\\HTP_Test\\venv\\Lib\\site-packages\\ultralytics\\utils\\metrics.py:432: UserWarning: Glyph 52285 (\\N{HANGUL SYLLABLE CANG}) missing from font(s) Arial.\n",
      "  fig.savefig(plot_fname, dpi=250)\n",
      "c:\\Users\\User\\HTP_Test\\venv\\Lib\\site-packages\\ultralytics\\utils\\metrics.py:432: UserWarning: Glyph 44404 (\\N{HANGUL SYLLABLE GUL}) missing from font(s) Arial.\n",
      "  fig.savefig(plot_fname, dpi=250)\n",
      "c:\\Users\\User\\HTP_Test\\venv\\Lib\\site-packages\\ultralytics\\utils\\metrics.py:432: UserWarning: Glyph 46749 (\\N{HANGUL SYLLABLE DDUG}) missing from font(s) Arial.\n",
      "  fig.savefig(plot_fname, dpi=250)\n",
      "c:\\Users\\User\\HTP_Test\\venv\\Lib\\site-packages\\ultralytics\\utils\\metrics.py:432: UserWarning: Glyph 50672 (\\N{HANGUL SYLLABLE YEON}) missing from font(s) Arial.\n",
      "  fig.savefig(plot_fname, dpi=250)\n",
      "c:\\Users\\User\\HTP_Test\\venv\\Lib\\site-packages\\ultralytics\\utils\\metrics.py:432: UserWarning: Glyph 44592 (\\N{HANGUL SYLLABLE GI}) missing from font(s) Arial.\n",
      "  fig.savefig(plot_fname, dpi=250)\n",
      "c:\\Users\\User\\HTP_Test\\venv\\Lib\\site-packages\\ultralytics\\utils\\metrics.py:432: UserWarning: Glyph 50872 (\\N{HANGUL SYLLABLE UL}) missing from font(s) Arial.\n",
      "  fig.savefig(plot_fname, dpi=250)\n",
      "c:\\Users\\User\\HTP_Test\\venv\\Lib\\site-packages\\ultralytics\\utils\\metrics.py:432: UserWarning: Glyph 53440 (\\N{HANGUL SYLLABLE TA}) missing from font(s) Arial.\n",
      "  fig.savefig(plot_fname, dpi=250)\n",
      "c:\\Users\\User\\HTP_Test\\venv\\Lib\\site-packages\\ultralytics\\utils\\metrics.py:432: UserWarning: Glyph 47532 (\\N{HANGUL SYLLABLE RI}) missing from font(s) Arial.\n",
      "  fig.savefig(plot_fname, dpi=250)\n",
      "c:\\Users\\User\\HTP_Test\\venv\\Lib\\site-packages\\ultralytics\\utils\\metrics.py:432: UserWarning: Glyph 49328 (\\N{HANGUL SYLLABLE SAN}) missing from font(s) Arial.\n",
      "  fig.savefig(plot_fname, dpi=250)\n",
      "c:\\Users\\User\\HTP_Test\\venv\\Lib\\site-packages\\ultralytics\\utils\\metrics.py:432: UserWarning: Glyph 45208 (\\N{HANGUL SYLLABLE NA}) missing from font(s) Arial.\n",
      "  fig.savefig(plot_fname, dpi=250)\n",
      "c:\\Users\\User\\HTP_Test\\venv\\Lib\\site-packages\\ultralytics\\utils\\metrics.py:432: UserWarning: Glyph 47924 (\\N{HANGUL SYLLABLE MU}) missing from font(s) Arial.\n",
      "  fig.savefig(plot_fname, dpi=250)\n",
      "c:\\Users\\User\\HTP_Test\\venv\\Lib\\site-packages\\ultralytics\\utils\\metrics.py:432: UserWarning: Glyph 44867 (\\N{HANGUL SYLLABLE GGOC}) missing from font(s) Arial.\n",
      "  fig.savefig(plot_fname, dpi=250)\n",
      "c:\\Users\\User\\HTP_Test\\venv\\Lib\\site-packages\\ultralytics\\utils\\metrics.py:432: UserWarning: Glyph 51092 (\\N{HANGUL SYLLABLE JAN}) missing from font(s) Arial.\n",
      "  fig.savefig(plot_fname, dpi=250)\n",
      "c:\\Users\\User\\HTP_Test\\venv\\Lib\\site-packages\\ultralytics\\utils\\metrics.py:432: UserWarning: Glyph 46356 (\\N{HANGUL SYLLABLE DI}) missing from font(s) Arial.\n",
      "  fig.savefig(plot_fname, dpi=250)\n",
      "c:\\Users\\User\\HTP_Test\\venv\\Lib\\site-packages\\ultralytics\\utils\\metrics.py:432: UserWarning: Glyph 53468 (\\N{HANGUL SYLLABLE TAE}) missing from font(s) Arial.\n",
      "  fig.savefig(plot_fname, dpi=250)\n",
      "c:\\Users\\User\\HTP_Test\\venv\\Lib\\site-packages\\ultralytics\\utils\\metrics.py:432: UserWarning: Glyph 50577 (\\N{HANGUL SYLLABLE YANG}) missing from font(s) Arial.\n",
      "  fig.savefig(plot_fname, dpi=250)\n",
      "c:\\Users\\User\\HTP_Test\\venv\\Lib\\site-packages\\ultralytics\\utils\\metrics.py:432: UserWarning: Glyph 46181 (\\N{HANGUL SYLLABLE DUNG}) missing from font(s) Arial.\n",
      "  fig.savefig(plot_fname, dpi=250)\n",
      "c:\\Users\\User\\HTP_Test\\venv\\Lib\\site-packages\\ultralytics\\utils\\metrics.py:432: UserWarning: Glyph 49688 (\\N{HANGUL SYLLABLE SU}) missing from font(s) Arial.\n",
      "  fig.savefig(plot_fname, dpi=250)\n",
      "c:\\Users\\User\\HTP_Test\\venv\\Lib\\site-packages\\ultralytics\\utils\\metrics.py:432: UserWarning: Glyph 44288 (\\N{HANGUL SYLLABLE GWAN}) missing from font(s) Arial.\n",
      "  fig.savefig(plot_fname, dpi=250)\n",
      "c:\\Users\\User\\HTP_Test\\venv\\Lib\\site-packages\\ultralytics\\utils\\metrics.py:432: UserWarning: Glyph 44032 (\\N{HANGUL SYLLABLE GA}) missing from font(s) Arial.\n",
      "  fig.savefig(plot_fname, dpi=250)\n",
      "c:\\Users\\User\\HTP_Test\\venv\\Lib\\site-packages\\ultralytics\\utils\\metrics.py:432: UserWarning: Glyph 49100 (\\N{HANGUL SYLLABLE BBU}) missing from font(s) Arial.\n",
      "  fig.savefig(plot_fname, dpi=250)\n",
      "c:\\Users\\User\\HTP_Test\\venv\\Lib\\site-packages\\ultralytics\\utils\\metrics.py:432: UserWarning: Glyph 47943 (\\N{HANGUL SYLLABLE MUS}) missing from font(s) Arial.\n",
      "  fig.savefig(plot_fname, dpi=250)\n",
      "c:\\Users\\User\\HTP_Test\\venv\\Lib\\site-packages\\ultralytics\\utils\\metrics.py:432: UserWarning: Glyph 51086 (\\N{HANGUL SYLLABLE IP}) missing from font(s) Arial.\n",
      "  fig.savefig(plot_fname, dpi=250)\n",
      "c:\\Users\\User\\HTP_Test\\venv\\Lib\\site-packages\\ultralytics\\utils\\metrics.py:432: UserWarning: Glyph 50676 (\\N{HANGUL SYLLABLE YEOL}) missing from font(s) Arial.\n",
      "  fig.savefig(plot_fname, dpi=250)\n",
      "c:\\Users\\User\\HTP_Test\\venv\\Lib\\site-packages\\ultralytics\\utils\\metrics.py:432: UserWarning: Glyph 47588 (\\N{HANGUL SYLLABLE MAE}) missing from font(s) Arial.\n",
      "  fig.savefig(plot_fname, dpi=250)\n",
      "c:\\Users\\User\\HTP_Test\\venv\\Lib\\site-packages\\ultralytics\\utils\\metrics.py:432: UserWarning: Glyph 49324 (\\N{HANGUL SYLLABLE SA}) missing from font(s) Arial.\n",
      "  fig.savefig(plot_fname, dpi=250)\n",
      "c:\\Users\\User\\HTP_Test\\venv\\Lib\\site-packages\\ultralytics\\utils\\metrics.py:432: UserWarning: Glyph 46988 (\\N{HANGUL SYLLABLE RAM}) missing from font(s) Arial.\n",
      "  fig.savefig(plot_fname, dpi=250)\n",
      "c:\\Users\\User\\HTP_Test\\venv\\Lib\\site-packages\\ultralytics\\utils\\metrics.py:432: UserWarning: Glyph 47672 (\\N{HANGUL SYLLABLE MEO}) missing from font(s) Arial.\n",
      "  fig.savefig(plot_fname, dpi=250)\n",
      "c:\\Users\\User\\HTP_Test\\venv\\Lib\\site-packages\\ultralytics\\utils\\metrics.py:432: UserWarning: Glyph 50620 (\\N{HANGUL SYLLABLE EOL}) missing from font(s) Arial.\n",
      "  fig.savefig(plot_fname, dpi=250)\n",
      "c:\\Users\\User\\HTP_Test\\venv\\Lib\\site-packages\\ultralytics\\utils\\metrics.py:432: UserWarning: Glyph 45576 (\\N{HANGUL SYLLABLE NUN}) missing from font(s) Arial.\n",
      "  fig.savefig(plot_fname, dpi=250)\n",
      "c:\\Users\\User\\HTP_Test\\venv\\Lib\\site-packages\\ultralytics\\utils\\metrics.py:432: UserWarning: Glyph 53076 (\\N{HANGUL SYLLABLE KO}) missing from font(s) Arial.\n",
      "  fig.savefig(plot_fname, dpi=250)\n",
      "c:\\Users\\User\\HTP_Test\\venv\\Lib\\site-packages\\ultralytics\\utils\\metrics.py:432: UserWarning: Glyph 51077 (\\N{HANGUL SYLLABLE IB}) missing from font(s) Arial.\n",
      "  fig.savefig(plot_fname, dpi=250)\n",
      "c:\\Users\\User\\HTP_Test\\venv\\Lib\\site-packages\\ultralytics\\utils\\metrics.py:432: UserWarning: Glyph 44480 (\\N{HANGUL SYLLABLE GWI}) missing from font(s) Arial.\n",
      "  fig.savefig(plot_fname, dpi=250)\n",
      "c:\\Users\\User\\HTP_Test\\venv\\Lib\\site-packages\\ultralytics\\utils\\metrics.py:432: UserWarning: Glyph 52852 (\\N{HANGUL SYLLABLE KA}) missing from font(s) Arial.\n",
      "  fig.savefig(plot_fname, dpi=250)\n",
      "c:\\Users\\User\\HTP_Test\\venv\\Lib\\site-packages\\ultralytics\\utils\\metrics.py:432: UserWarning: Glyph 46973 (\\N{HANGUL SYLLABLE RAG}) missing from font(s) Arial.\n",
      "  fig.savefig(plot_fname, dpi=250)\n",
      "c:\\Users\\User\\HTP_Test\\venv\\Lib\\site-packages\\ultralytics\\utils\\metrics.py:432: UserWarning: Glyph 47785 (\\N{HANGUL SYLLABLE MOG}) missing from font(s) Arial.\n",
      "  fig.savefig(plot_fname, dpi=250)\n",
      "c:\\Users\\User\\HTP_Test\\venv\\Lib\\site-packages\\ultralytics\\utils\\metrics.py:432: UserWarning: Glyph 49345 (\\N{HANGUL SYLLABLE SANG}) missing from font(s) Arial.\n",
      "  fig.savefig(plot_fname, dpi=250)\n",
      "c:\\Users\\User\\HTP_Test\\venv\\Lib\\site-packages\\ultralytics\\utils\\metrics.py:432: UserWarning: Glyph 54036 (\\N{HANGUL SYLLABLE PAL}) missing from font(s) Arial.\n",
      "  fig.savefig(plot_fname, dpi=250)\n",
      "c:\\Users\\User\\HTP_Test\\venv\\Lib\\site-packages\\ultralytics\\utils\\metrics.py:432: UserWarning: Glyph 49552 (\\N{HANGUL SYLLABLE SON}) missing from font(s) Arial.\n",
      "  fig.savefig(plot_fname, dpi=250)\n",
      "c:\\Users\\User\\HTP_Test\\venv\\Lib\\site-packages\\ultralytics\\utils\\metrics.py:432: UserWarning: Glyph 45796 (\\N{HANGUL SYLLABLE DA}) missing from font(s) Arial.\n",
      "  fig.savefig(plot_fname, dpi=250)\n",
      "c:\\Users\\User\\HTP_Test\\venv\\Lib\\site-packages\\ultralytics\\utils\\metrics.py:432: UserWarning: Glyph 48156 (\\N{HANGUL SYLLABLE BAL}) missing from font(s) Arial.\n",
      "  fig.savefig(plot_fname, dpi=250)\n",
      "c:\\Users\\User\\HTP_Test\\venv\\Lib\\site-packages\\ultralytics\\utils\\metrics.py:432: UserWarning: Glyph 45800 (\\N{HANGUL SYLLABLE DAN}) missing from font(s) Arial.\n",
      "  fig.savefig(plot_fname, dpi=250)\n",
      "c:\\Users\\User\\HTP_Test\\venv\\Lib\\site-packages\\ultralytics\\utils\\metrics.py:432: UserWarning: Glyph 52628 (\\N{HANGUL SYLLABLE CU}) missing from font(s) Arial.\n",
      "  fig.savefig(plot_fname, dpi=250)\n",
      "c:\\Users\\User\\HTP_Test\\venv\\Lib\\site-packages\\ultralytics\\utils\\metrics.py:432: UserWarning: Glyph 51452 (\\N{HANGUL SYLLABLE JU}) missing from font(s) Arial.\n",
      "  fig.savefig(plot_fname, dpi=250)\n",
      "c:\\Users\\User\\HTP_Test\\venv\\Lib\\site-packages\\ultralytics\\utils\\metrics.py:432: UserWarning: Glyph 45768 (\\N{HANGUL SYLLABLE NI}) missing from font(s) Arial.\n",
      "  fig.savefig(plot_fname, dpi=250)\n"
     ]
    },
    {
     "name": "stdout",
     "output_type": "stream",
     "text": [
      "Speed: 0.2ms preprocess, 1.6ms inference, 0.0ms loss, 0.7ms postprocess per image\n",
      "Results saved to \u001b[1mruns\\detect\\train52\u001b[0m\n",
      "\n",
      "image 1/1 C:\\Users\\User\\HTP_Test\\YOLO\\train\\images\\_7__00242.jpg: 640x640 1 , 1 , 1 , 1 , 1 , 1 , 4 s, 3 s, 3.0ms\n",
      "Speed: 17.8ms preprocess, 3.0ms inference, 0.0ms postprocess per image at shape (1, 3, 640, 640)\n",
      "Ultralytics 8.3.32  Python-3.11.9 torch-2.5.1+cu124 CPU (13th Gen Intel Core(TM) i7-13700)\n",
      "\n",
      "\u001b[34m\u001b[1mPyTorch:\u001b[0m starting from 'runs\\detect\\train5\\weights\\best.pt' with input shape (1, 3, 640, 640) BCHW and output shape(s) (1, 40, 8400) (5.2 MB)\n",
      "\u001b[31m\u001b[1mrequirements:\u001b[0m Ultralytics requirements ['onnx>=1.12.0', 'onnxslim', 'onnxruntime-gpu'] not found, attempting AutoUpdate...\n",
      "Collecting onnx>=1.12.0\n",
      "  Downloading onnx-1.17.0-cp311-cp311-win_amd64.whl.metadata (16 kB)\n",
      "Collecting onnxslim\n",
      "  Downloading onnxslim-0.1.39-py3-none-any.whl.metadata (2.9 kB)\n",
      "Collecting onnxruntime-gpu\n",
      "  Downloading onnxruntime_gpu-1.20.1-cp311-cp311-win_amd64.whl.metadata (4.7 kB)\n",
      "Requirement already satisfied: numpy>=1.20 in c:\\users\\user\\htp_test\\venv\\lib\\site-packages (from onnx>=1.12.0) (1.26.3)\n",
      "Collecting protobuf>=3.20.2 (from onnx>=1.12.0)\n",
      "  Downloading protobuf-5.28.3-cp310-abi3-win_amd64.whl.metadata (592 bytes)\n",
      "Requirement already satisfied: sympy in c:\\users\\user\\htp_test\\venv\\lib\\site-packages (from onnxslim) (1.13.1)\n",
      "Requirement already satisfied: packaging in c:\\users\\user\\htp_test\\venv\\lib\\site-packages (from onnxslim) (24.2)\n",
      "Collecting coloredlogs (from onnxruntime-gpu)\n",
      "  Downloading coloredlogs-15.0.1-py2.py3-none-any.whl.metadata (12 kB)\n",
      "Collecting flatbuffers (from onnxruntime-gpu)\n",
      "  Downloading flatbuffers-24.3.25-py2.py3-none-any.whl.metadata (850 bytes)\n",
      "Collecting humanfriendly>=9.1 (from coloredlogs->onnxruntime-gpu)\n",
      "  Downloading humanfriendly-10.0-py2.py3-none-any.whl.metadata (9.2 kB)\n",
      "Requirement already satisfied: mpmath<1.4,>=1.1.0 in c:\\users\\user\\htp_test\\venv\\lib\\site-packages (from sympy->onnxslim) (1.3.0)\n",
      "Collecting pyreadline3 (from humanfriendly>=9.1->coloredlogs->onnxruntime-gpu)\n",
      "  Downloading pyreadline3-3.5.4-py3-none-any.whl.metadata (4.7 kB)\n",
      "Downloading onnx-1.17.0-cp311-cp311-win_amd64.whl (14.5 MB)\n",
      "   ---------------------------------------- 14.5/14.5 MB 11.9 MB/s eta 0:00:00\n",
      "Downloading onnxslim-0.1.39-py3-none-any.whl (141 kB)\n",
      "   ---------------------------------------- 141.8/141.8 kB 8.2 MB/s eta 0:00:00\n",
      "Downloading onnxruntime_gpu-1.20.1-cp311-cp311-win_amd64.whl (279.7 MB)\n",
      "   --------------------------------------- 279.7/279.7 MB 11.9 MB/s eta 0:00:00\n",
      "Downloading protobuf-5.28.3-cp310-abi3-win_amd64.whl (431 kB)\n",
      "   --------------------------------------- 431.5/431.5 kB 13.6 MB/s eta 0:00:00\n",
      "Downloading coloredlogs-15.0.1-py2.py3-none-any.whl (46 kB)\n",
      "   ---------------------------------------- 46.0/46.0 kB ? eta 0:00:00\n",
      "Downloading flatbuffers-24.3.25-py2.py3-none-any.whl (26 kB)\n",
      "Downloading humanfriendly-10.0-py2.py3-none-any.whl (86 kB)\n",
      "   ---------------------------------------- 86.8/86.8 kB ? eta 0:00:00\n",
      "Downloading pyreadline3-3.5.4-py3-none-any.whl (83 kB)\n",
      "   ---------------------------------------- 83.2/83.2 kB ? eta 0:00:00\n",
      "Installing collected packages: flatbuffers, pyreadline3, protobuf, onnx, humanfriendly, onnxslim, coloredlogs, onnxruntime-gpu\n",
      "Successfully installed coloredlogs-15.0.1 flatbuffers-24.3.25 humanfriendly-10.0 onnx-1.17.0 onnxruntime-gpu-1.20.1 onnxslim-0.1.39 protobuf-5.28.3 pyreadline3-3.5.4\n",
      "\n",
      "\u001b[31m\u001b[1mrequirements:\u001b[0m AutoUpdate success  51.2s, installed 3 packages: ['onnx>=1.12.0', 'onnxslim', 'onnxruntime-gpu']\n",
      "\u001b[31m\u001b[1mrequirements:\u001b[0m  \u001b[1mRestart runtime or rerun command for updates to take effect\u001b[0m\n",
      "\n",
      "\n",
      "\u001b[34m\u001b[1mONNX:\u001b[0m starting export with onnx 1.17.0 opset 19...\n",
      "\u001b[34m\u001b[1mONNX:\u001b[0m slimming with onnxslim 0.1.39...\n",
      "\u001b[34m\u001b[1mONNX:\u001b[0m export success  52.6s, saved as 'runs\\detect\\train5\\weights\\best.onnx' (10.1 MB)\n",
      "\n",
      "Export complete (54.3s)\n",
      "Results saved to \u001b[1mC:\\Users\\User\\HTP_Test\\runs\\detect\\train5\\weights\u001b[0m\n",
      "Predict:         yolo predict task=detect model=runs\\detect\\train5\\weights\\best.onnx imgsz=640  \n",
      "Validate:        yolo val task=detect model=runs\\detect\\train5\\weights\\best.onnx imgsz=640 data=C:\\Users\\User\\HTP_Test\\yolo.yaml  \n",
      "Visualize:       https://netron.app\n"
     ]
    }
   ],
   "source": [
    "from ultralytics import YOLO\n",
    "import torch\n",
    "\n",
    "# Load a model\n",
    "model = YOLO(\"yolo11n.pt\")\n",
    "\n",
    "# Train the model\n",
    "train_results = model.train(\n",
    "    data=r\"C:\\Users\\User\\HTP_Test\\yolo.yaml\",  # path to dataset YAML\n",
    "    epochs=100,  # number of training epochs\n",
    "    imgsz=640,  # training image size\n",
    "    device = \"cuda\" if torch.cuda.is_available() else \"cpu\",\n",
    ")\n",
    "\n",
    "# Evaluate model performance on the validation set\n",
    "metrics = model.val()\n",
    "\n",
    "# Perform object detection on an image\n",
    "results = model(r\"C:\\Users\\User\\HTP_Test\\YOLO\\train\\images\\나무_7_남_00242.jpg\")\n",
    "results[0].show()\n",
    "\n",
    "# Export the model to ONNX format\n",
    "path = model.export(format=\"onnx\")  # return path to exported model"
   ]
  }
 ],
 "metadata": {
  "kernelspec": {
   "display_name": "venv",
   "language": "python",
   "name": "python3"
  },
  "language_info": {
   "codemirror_mode": {
    "name": "ipython",
    "version": 3
   },
   "file_extension": ".py",
   "mimetype": "text/x-python",
   "name": "python",
   "nbconvert_exporter": "python",
   "pygments_lexer": "ipython3",
   "version": "3.11.9"
  }
 },
 "nbformat": 4,
 "nbformat_minor": 2
}
