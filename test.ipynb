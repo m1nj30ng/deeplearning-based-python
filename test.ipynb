{
 "cells": [
  {
   "cell_type": "code",
   "execution_count": 3,
   "metadata": {},
   "outputs": [],
   "source": [
    "import cv2\n",
    "from ultralytics import YOLO\n",
    "import pandas as pd\n",
    "import numpy as np"
   ]
  },
  {
   "cell_type": "code",
   "execution_count": 4,
   "metadata": {},
   "outputs": [
    {
     "name": "stdout",
     "output_type": "stream",
     "text": [
      "\n",
      "image 1/1 C:\\Users\\Minjeong\\Desktop\\\\apps\\static\\example_adaptive.jpg: 480x640 1 , 1 , 1 , 1 , 2 s, 2 s, 1 , 411.7ms\n",
      "Speed: 19.0ms preprocess, 411.7ms inference, 26.3ms postprocess per image at shape (1, 3, 480, 640)\n"
     ]
    },
    {
     "data": {
      "text/plain": [
       "True"
      ]
     },
     "execution_count": 4,
     "metadata": {},
     "output_type": "execute_result"
    }
   ],
   "source": [
    "model = YOLO(r'C:\\Users\\Minjeong\\Desktop\\파기딥프젝\\best.pt')\n",
    "results = model(r'C:\\Users\\Minjeong\\Desktop\\파기딥프젝\\apps\\static\\example_adaptive.jpg')\n",
    "\n",
    "save_dir=r'C:\\Users\\Minjeong\\Desktop\\파기딥프젝\\res_example.jpg'\n",
    "result_image = results[0].plot()\n",
    "\n",
    "cv2.imwrite(save_dir, result_image)\n"
   ]
  },
  {
   "cell_type": "code",
   "execution_count": 6,
   "metadata": {},
   "outputs": [
    {
     "name": "stdout",
     "output_type": "stream",
     "text": [
      "Label: 문, Confidence: 0.95\n",
      "Bounding Box: x_min=374.97, y_min=526.25, x_max=530.37, y_max=751.60\n",
      "Label: 창문, Confidence: 0.94\n",
      "Bounding Box: x_min=618.07, y_min=476.95, x_max=924.70, y_max=644.91\n",
      "Label: 집벽, Confidence: 0.92\n",
      "Bounding Box: x_min=310.87, y_min=403.81, x_max=975.16, y_max=768.17\n",
      "Label: 집전체, Confidence: 0.91\n",
      "Bounding Box: x_min=299.79, y_min=233.09, x_max=988.75, y_max=766.60\n",
      "Label: 나무, Confidence: 0.89\n",
      "Bounding Box: x_min=71.31, y_min=17.69, x_max=590.19, y_max=751.70\n",
      "Label: 지붕, Confidence: 0.86\n",
      "Bounding Box: x_min=298.13, y_min=242.10, x_max=990.80, y_max=479.01\n",
      "Label: 울타리, Confidence: 0.77\n",
      "Bounding Box: x_min=950.97, y_min=524.96, x_max=1265.59, y_max=757.58\n",
      "Label: 울타리, Confidence: 0.69\n",
      "Bounding Box: x_min=62.10, y_min=559.74, x_max=232.10, y_max=751.12\n",
      "Label: 창문, Confidence: 0.62\n",
      "Bounding Box: x_min=375.75, y_min=362.02, x_max=510.84, y_max=478.05\n"
     ]
    }
   ],
   "source": [
    "boxes = results[0].boxes\n",
    "names = model.names\n",
    "\n",
    "labels=[]\n",
    "Bboxes=[]\n",
    "conf=[]\n",
    "\n",
    "for box in boxes:\n",
    "    # 바운딩 박스 좌표 (x_min, y_min, x_max, y_max)\n",
    "    x_min, y_min, x_max, y_max = box.xyxy[0].tolist()\n",
    "    # 클래스 라벨\n",
    "    class_id = int(box.cls)  # 클래스 ID\n",
    "    label = names[class_id]  # 클래스 이름\n",
    "    # 신뢰도\n",
    "    confidence = box.conf[0].item()\n",
    "    #리스트에 값 저장\n",
    "    labels.append(label)\n",
    "    Bboxes.append([x_min, y_min, x_max, y_max]) #이중리스트\n",
    "    conf.append(confidence)\n",
    "\n",
    "    print(f\"Label: {label}, Confidence: {confidence:.2f}\")\n",
    "    print(f\"Bounding Box: x_min={x_min:.2f}, y_min={y_min:.2f}, x_max={x_max:.2f}, y_max={y_max:.2f}\")"
   ]
  },
  {
   "cell_type": "code",
   "execution_count": null,
   "metadata": {},
   "outputs": [],
   "source": [
    "def test(img_dir): #원소<-사진\n",
    "    results = model(img_dir) #사진\n",
    "    result_image = results[0]\n",
    "    image = cv2.imread(img_dir)\n",
    "    image_height, image_width, _ = image.shape\n",
    "    boxes = results[0].boxes\n",
    "    names = model.names\n",
    "\n",
    "    labels=[]\n",
    "    Bboxes=[]\n",
    "    conf=[]\n",
    "\n",
    "    for box in boxes:\n",
    "        # 바운딩 박스 좌표 (x_min, y_min, x_max, y_max)\n",
    "        x_min, y_min, x_max, y_max = box.xyxy[0].tolist()\n",
    "        # 클래스 라벨\n",
    "        class_id = int(box.cls)  # 클래스 ID\n",
    "        label = names[class_id]  # 클래스 이름\n",
    "        # 신뢰도\n",
    "        confidence = box.conf[0].item()\n",
    "        #리스트에 값 저장\n",
    "        labels.append(label)\n",
    "        Bboxes.append([x_min, y_min, x_max, y_max]) #이중리스트\n",
    "        conf.append(confidence)\n",
    "    print(image_height, image_width)\n",
    "    return(labels, Bboxes, conf,image_height, image_width)\n",
    "        "
   ]
  },
  {
   "cell_type": "code",
   "execution_count": null,
   "metadata": {},
   "outputs": [
    {
     "name": "stdout",
     "output_type": "stream",
     "text": [
      "\n",
      "image 1/1 C:\\Users\\Minjeong\\Desktop\\\\apps\\static\\example_adaptive.jpg: 480x640 1 , 1 , 1 , 1 , 2 s, 2 s, 1 , 395.1ms\n",
      "Speed: 14.8ms preprocess, 395.1ms inference, 3.0ms postprocess per image at shape (1, 3, 480, 640)\n",
      "1058 1411\n"
     ]
    }
   ],
   "source": [
    "labels,Bboxes,conf,image_height, image_width=test(r'C:\\Users\\Minjeong\\Desktop\\파기딥프젝\\apps\\static\\example_adaptive.jpg')"
   ]
  },
  {
   "cell_type": "code",
   "execution_count": 33,
   "metadata": {},
   "outputs": [
    {
     "data": {
      "text/plain": [
       "['문', '창문', '집벽', '집전체', '나무', '지붕', '울타리', '울타리', '창문']"
      ]
     },
     "execution_count": 33,
     "metadata": {},
     "output_type": "execute_result"
    }
   ],
   "source": [
    "labels"
   ]
  },
  {
   "cell_type": "code",
   "execution_count": 37,
   "metadata": {},
   "outputs": [
    {
     "data": {
      "text/plain": [
       "[[374.967041015625, 526.2521362304688, 530.373046875, 751.5994873046875],\n",
       " [618.07470703125, 476.95343017578125, 924.6950073242188, 644.910400390625],\n",
       " [310.8714294433594, 403.80926513671875, 975.1615600585938, 768.1734619140625],\n",
       " [299.7884521484375, 233.0923614501953, 988.7515869140625, 766.5973510742188],\n",
       " [71.31122589111328, 17.685808181762695, 590.1942749023438, 751.697509765625],\n",
       " [298.12750244140625, 242.0973358154297, 990.7998046875, 479.0146484375],\n",
       " [950.9652709960938, 524.9647216796875, 1265.5899658203125, 757.5797119140625],\n",
       " [62.10320281982422, 559.7415771484375, 232.0968017578125, 751.1195678710938],\n",
       " [375.7484436035156, 362.0230407714844, 510.84490966796875, 478.0516662597656]]"
      ]
     },
     "execution_count": 37,
     "metadata": {},
     "output_type": "execute_result"
    }
   ],
   "source": [
    "Bboxes"
   ]
  },
  {
   "cell_type": "code",
   "execution_count": 35,
   "metadata": {},
   "outputs": [
    {
     "data": {
      "text/plain": [
       "[0.9487219452857971,\n",
       " 0.9355341196060181,\n",
       " 0.9202930927276611,\n",
       " 0.9059797525405884,\n",
       " 0.8854690790176392,\n",
       " 0.8564248085021973,\n",
       " 0.7703241109848022,\n",
       " 0.6889399290084839,\n",
       " 0.6209651231765747]"
      ]
     },
     "execution_count": 35,
     "metadata": {},
     "output_type": "execute_result"
    }
   ],
   "source": [
    "conf"
   ]
  },
  {
   "cell_type": "code",
   "execution_count": null,
   "metadata": {},
   "outputs": [
    {
     "data": {
      "text/plain": [
       "['집 그림은 그린 사람이 성장한 가정환경을 나타냅니다. 자신의 가정생활과 가족 관계를 어떻게 바라보고 있는지, 이상적인 가정 또는 과거의 가정에 대한 소망이 드러납니다.',\n",
       " '지붕은 내적인 인지과정과 관련되어 있습니다.',\n",
       " '문은 환경과 직접적인 상호작용, 대인관계에 대한 태도를 나타냅니다. ',\n",
       " '창문은 환경과의 수동적인 접촉을 나타내며, 피검자의 주관적인 관계 경험과 자기 또는 타인과의 대인관계가 관련되어 있습니다.',\n",
       " '굴뚝은 가족 내의 온정적 분위기, 가족 간의 교류 양상을 나타냅니다. ',\n",
       " '굴뚝을 그리지 않으셨네요. 가족 내 분위기가 조금은 정적이고 딱딱한가요?',\n",
       " '울타리를 그린 사람은 조심성이 높으며, 모험보다는 안전을 추구하고, 비밀이 많거나 신중한 성격일 가능성이 높습니다. 방어적이고 경계적 태도를 가지고 계시네요.',\n",
       " '나무는 울타리, 산과 마찬가지로 외부에 대한 경계심이 높고, 보호를 원함을 의미합니다. ']"
      ]
     },
     "execution_count": 40,
     "metadata": {},
     "output_type": "execute_result"
    }
   ],
   "source": [
    "def test_home(labels, Bboxes, conf,image_height, image_width):\n",
    "\n",
    "    home_exp=[]\n",
    "    home_idx=labels.index('집전체')\n",
    "    home_x=Bboxes[home_idx][2]-Bboxes[home_idx][0]\n",
    "    home_y=Bboxes[home_idx][3]-Bboxes[home_idx][1]\n",
    "    \n",
    "    home_exp.append(\"집 그림은 그린 사람이 성장한 가정환경을 나타냅니다. 자신의 가정생활과 가족 관계를 어떻게 바라보고 있는지, 이상적인 가정 또는 과거의 가정에 대한 소망이 드러납니다.\")\n",
    "\n",
    "    #지붕\n",
    "    home_exp.append(\"지붕은 내적인 인지과정과 관련되어 있습니다.\")\n",
    "    if '지붕' in labels:\n",
    "        roof_idx=labels.index('지붕')\n",
    "        roof_x=Bboxes[roof_idx][2]-Bboxes[roof_idx][0]\n",
    "        roof_y=Bboxes[roof_idx][3]-Bboxes[roof_idx][1]\n",
    "        \n",
    "    else:\n",
    "        home_exp.append(\"지붕을 생략한 경우, 심리적으로 위축되어있음을 위미합니다.\")\n",
    "\n",
    "    #문\n",
    "    home_exp.append(\"문은 환경과 직접적인 상호작용, 대인관계에 대한 태도를 나타냅니다. \")\n",
    "    if '문' in labels:\n",
    "        door_idx=labels.index('지붕')\n",
    "\n",
    "        door_x=Bboxes[door_idx][2]-Bboxes[door_idx][0]\n",
    "        door_y=Bboxes[door_idx][3]-Bboxes[door_idx][1]\n",
    "        \n",
    "    else:\n",
    "        home_exp.append(\"현재 이루기 힘든 것이 있나요? 문이 없음은 현재 얻기 어려운 것이 있음을 의미합니다. \")\n",
    "\n",
    "    #창문\n",
    "    home_exp.append(\"창문은 환경과의 수동적인 접촉을 나타내며, 피검자의 주관적인 관계 경험과 자기 또는 타인과의 대인관계가 관련되어 있습니다.\")\n",
    "    if '창문' in labels:\n",
    "        window_idx=np.where(np.array(labels)=='창문')[0]\n",
    "        window_num=len(window_idx)\n",
    "    else:\n",
    "        home_exp.append(\"창문을 그리지 않으셨나요? 창문 생략은 외부 관심의 결여와 적의, 폐쇄적인 사고와 관련되어 있으며, 환경과의 접촉을 차단하고 있는 상태입니다. \")\n",
    "\n",
    "    #굴뚝\n",
    "    home_exp.append(\"굴뚝은 가족 내의 온정적 분위기, 가족 간의 교류 양상을 나타냅니다. \")\n",
    "    if '굴뚝' in labels:\n",
    "        home_exp.append(\" \")\n",
    "    else:\n",
    "        home_exp.append(\"굴뚝을 그리지 않으셨네요. 가족 내 분위기가 조금은 정적이고 딱딱한가요?\")\n",
    "\n",
    "    #울타리\n",
    "    if '울타리' in labels:\n",
    "        home_exp.append(\"울타리를 그린 사람은 조심성이 높으며, 모험보다는 안전을 추구하고, 비밀이 많거나 신중한 성격일 가능성이 높습니다. 방어적이고 경계적 태도를 가지고 계시네요.\")\n",
    "    #산\n",
    "    if '산' in labels:\n",
    "        home_exp.append(\"산을 그리셨네요. 산과 울타리, 관목은 방어 욕구가 높음을 의미합니다. 외부로부터 위협을 느끼고 계시나요? 보호받고 싶어하고, 경계심이 높군요.\")    \n",
    "    #나무\n",
    "    if '나무' in labels:\n",
    "        home_exp.append(\"나무는 울타리, 산과 마찬가지로 외부에 대한 경계심이 높고, 보호를 원함을 의미합니다. \")\n",
    "    #꽃 & 잔디\n",
    "    if '꽃' in labels or '잔디' in labels:\n",
    "        home_exp.append(\"적당한 잔디와 꽃은 피검자의 생동감과 에너지를 의미하지만 지나친 경우엔 강한 의존 욕구를 반영합니다. \")  \n",
    "\n",
    "    #태양\n",
    "    if '태양' in labels:\n",
    "        home_exp.append(\"태양은 강한 애정욕구, 의존성 혹은 이에 대한 좌절감을 의미합니다. 부모에 대한 의존성을 나타내기도 합니다.\")\n",
    "\n",
    "    return home_exp \n",
    "       \n",
    "test_home(labels, Bboxes, conf)\n",
    "    "
   ]
  },
  {
   "cell_type": "code",
   "execution_count": null,
   "metadata": {},
   "outputs": [
    {
     "data": {
      "text/plain": [
       "298.12750244140625"
      ]
     },
     "execution_count": 25,
     "metadata": {},
     "output_type": "execute_result"
    }
   ],
   "source": [
    "def test_tree(labels, Bboxes, conf):\n",
    "    tree_exp=[]\n",
    "    tree_idx=labels.index('나무전체')\n",
    "    tree_x=Bboxes[tree_idx][2]-Bboxes[tree_idx][0]\n",
    "    tree_y=Bboxes[tree_idx][3]-Bboxes[tree_idx][1]\n",
    "\n",
    "    tree_exp.append(\"나무는 기본적인 자기 상을 나타냅니다. 그림 검사를 통해 가장 솔직한 내면 세계를 자유롭게 분출 할 수 있습니다.\")\n",
    "    #기둥\n",
    "    if '기둥' in labels:\n",
    "        tree_exp.append()\n",
    "\n",
    "    #수관\n",
    "    if '수관' in labels:\n",
    "        tree_exp.append()\n",
    "\n",
    "    #가지\n",
    "    if '가지' in labels:\n",
    "        tree_exp.append()\n",
    "\n",
    "    #뿌리\n",
    "    if '뿌리' in labels:\n",
    "        tree_exp.append()\n",
    "\n",
    "    #나뭇잎\n",
    "    if '나뭇잎' in labels:\n",
    "        tree_exp.append()\n",
    "\n",
    "    #열매\n",
    "    if '열매' in labels:\n",
    "        fruit_idx=np.where(np.array(labels)=='창문')[0]\n",
    "        fruit_num=len(fruit_idx)\n",
    "        tree_exp.append()\n",
    "\n",
    "    return tree_exp\n",
    "    "
   ]
  },
  {
   "cell_type": "code",
   "execution_count": null,
   "metadata": {},
   "outputs": [],
   "source": [
    "def test_person(labels, Bboxes, conf):\n",
    "    person_exp=[]\n",
    "    if '사람전체' in labels:\n",
    "        person_idx=labels.index('사람전체')\n",
    "        person_x=Bboxes[person_idx][2]-Bboxes[person_idx][0]\n",
    "        person_y=Bboxes[person_idx][3]-Bboxes[person_idx][1]\n",
    "\n",
    "    person_exp.append(\"나무는 기본적인 자기 상을 나타냅니다. 그림 검사를 통해 가장 솔직한 내면 세계를 자유롭게 분출 할 수 있습니다.\")\n",
    "    #머리\n",
    "    if '머리' in labels:\n",
    "        head_idx=labels.index('머리')\n",
    "        head_x=Bboxes[head_idx][2]-Bboxes[head_idx][0]\n",
    "        head_y=Bboxes[head_idx][3]-Bboxes[head_idx][1]\n",
    "\n",
    "        person_exp.append()\n",
    "\n",
    "\n",
    "    #얼굴\n",
    "    if '얼굴' in labels:\n",
    "        person_exp.append()\n",
    "    else:\n",
    "        person_exp.append(\"얼굴을 생략하셨나요? 자기 자신을 부정적으로 생각하고 있거나 정체성 혼란, 우울감 등을 느끼고 계시네요.\")\n",
    "\n",
    "    #눈\n",
    "    if '눈' in labels:\n",
    "        eye_idx=labels.index('눈')\n",
    "        eye_x=Bboxes[eye_idx][2]-Bboxes[eye_idx][0]\n",
    "        head_y=Bboxes[eye_idx][3]-Bboxes[eye_idx][1]\n",
    "        person_exp.append()\n",
    "        \n",
    "\n",
    "    #코\n",
    "    if '코' in labels:\n",
    "        person_exp.append()\n",
    "    else:\n",
    "        person_exp.append(\"인물을 잘 그리고 싶은데 자신이 없으신 분들이 코를 생략하곤 한답니다. 또한 부끄러움을 많이 타고 수줍음이 많거나, 자신감이 없는 사람을 의미합니다.\")\n",
    "\n",
    "    #입\n",
    "    if '입' in labels:\n",
    "        person_exp.append()\n",
    "    else:\n",
    "        person_exp.append(\"입을 생략하셨네요. 표현에 있어서 문제가 있거나 우울한 상태일 가능성이 높습니다. 타인과 소통하는 것에 어려움이 있지는 않으신가요? \")\n",
    "\n",
    "    #귀\n",
    "    if '귀' in labels:\n",
    "        person_exp.append()\n",
    "\n",
    "    #목\n",
    "    if '목' in labels:\n",
    "        person_exp.append()\n",
    "    else: \n",
    "        person_exp.append(\"목을 그리지 않은 사람들은 미숙한 정서를 가지고 있을 수 있습니다.\")\n",
    "\n",
    "    #팔\n",
    "    if '팔' in labels:\n",
    "        person_exp.append()\n",
    "\n",
    "    #손\n",
    "    if '손' in labels:\n",
    "        person_exp.append()\n",
    "    else:\n",
    "        person_exp.append(\"손을 생략함은 무언가 실행/실천 하는 것이 힘들거나 만족스럽지 않음을 의미합니다. 부끄럼이 많거나, 죄책감을 가지고 있을 수도 있습니다.\")\n",
    "\n",
    "    #발\n",
    "    if '발' in labels:\n",
    "        person_exp.append()\n",
    "    else:\n",
    "        person_exp.append(\"발을 그리지 않으셨네요. 지금 처한 환경에 잘 적응하지 못하는 상태이진 않으신가요? 무언가 스스로 경정하기 어려운 상태이며, 어디론가 도피하고싶어 하시네요.\")\n",
    "\n",
    "    #단추\n",
    "    if '단추' in labels:\n",
    "        person_exp.append(\"단추는 모성에 의존함을 나타냅니다.\")\n",
    "\n",
    "    #주머니\n",
    "    if '주머니' in labels:\n",
    "        person_exp.append(\"만약 주머니가 가슴위치에 있다면 유아적이고 의존적인 성향을 나타냅니다.\")\n",
    "\n",
    "\n",
    "    return person_exp"
   ]
  },
  {
   "cell_type": "code",
   "execution_count": null,
   "metadata": {},
   "outputs": [],
   "source": []
  }
 ],
 "metadata": {
  "kernelspec": {
   "display_name": "Python 3",
   "language": "python",
   "name": "python3"
  },
  "language_info": {
   "codemirror_mode": {
    "name": "ipython",
    "version": 3
   },
   "file_extension": ".py",
   "mimetype": "text/x-python",
   "name": "python",
   "nbconvert_exporter": "python",
   "pygments_lexer": "ipython3",
   "version": "3.10.6"
  }
 },
 "nbformat": 4,
 "nbformat_minor": 2
}
